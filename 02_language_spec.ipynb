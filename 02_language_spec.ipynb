{
 "cells": [
  {
   "cell_type": "code",
   "execution_count": null,
   "metadata": {},
   "outputs": [],
   "source": []
  },
  {
   "cell_type": "code",
   "execution_count": 58,
   "metadata": {},
   "outputs": [
    {
     "name": "stdout",
     "output_type": "stream",
     "text": [
      "0.75\n",
      "81\n",
      "1\n",
      "3\n"
     ]
    }
   ],
   "source": [
    "##1. 주석\n",
    "\n",
    "##python의 주석은 2가지 종류 (#, \"\"\" \"\"\")\n",
    "\n",
    "##2. 내장 상수\n",
    "#True, False, None(값이 존재하지 않음을 의미)\n",
    "a = True\n",
    "b = False\n",
    "c = None\n",
    "\n",
    "##3. built-in data type(내장형) \n",
    " ##3-1 Numeric type (숫자형)\n",
    "    \n",
    "a = 123          #정수\n",
    "b = 3.1415926535 #실수\n",
    "c = 3.14E10      #실수(지수형태로 표현)\n",
    "    \n",
    "    \n",
    "div = 3 / 4\n",
    "print(div)   #Java 코드라면 0 \n",
    "            #Jupyter에서 cell 단위 실행: ctrl + enter\n",
    "            #파이썬 코드를 실행하면 0.75\n",
    "    \n",
    "result = 3**4  #3의 4제곱(제곱)\n",
    "print(result)\n",
    "    \n",
    "result = 10%3  #나머지 연산 : %\n",
    "print(result)\n",
    "\n",
    "result = 10//3  #나눗셈의 몫 : //\n",
    "print(result)\n",
    "     "
   ]
  },
  {
   "cell_type": "code",
   "execution_count": 2,
   "metadata": {},
   "outputs": [
    {
     "name": "stdout",
     "output_type": "stream",
     "text": [
      "이것은소리없는아우성\n",
      "이것은100\n",
      "pythonpythonpython\n",
      "True\n",
      "ho\n",
      "나는 사과 5개, 바나나 여섯개 가지고 있어요\n",
      "8\n",
      "3\n",
      "-1\n",
      "     HOBBY  \n",
      "     hobby  \n",
      "hoBBy\n"
     ]
    }
   ],
   "source": [
    "### 2. Built-in type : Text Sequence type : str\n",
    "## 문자열 생성 방법\n",
    "\n",
    "# Java는 문자열(\" \")과 문자(' ')의 구분이 있어요\n",
    "# Python은 문자열과 문자의 구분이 없어요(\"\".'')\n",
    "a=\"안녕하세요\"\n",
    "b='소리없는아우성'\n",
    "\n",
    "c='''여러줄에 걸친 문자열도 만들 수 있어요\n",
    "ㅎ헤헤헤헿 ㅎㅎㅎ이거는 여러줄에 걸친 문자열이에요 ㅎㅎ\n",
    "헤헤헤헤'''\n",
    "\n",
    "\n",
    "#문자열 연산, indexing, slicing\n",
    "first = \"이것은\"\n",
    "second = \"소리없는\"\n",
    "third = \"아우성\"\n",
    "\n",
    "print(first+second+third)\n",
    "number = 100\n",
    "\n",
    "print(first+str(number))\n",
    "\n",
    "text=\"python\"\n",
    "print(text*3)\n",
    "\n",
    "#sampleText\n",
    "sample_text = \"Show me the Money!\"\n",
    "print(\"sample\" not in sample_text)\n",
    "#print(\"sample\" in sample_text)\n",
    "\n",
    "#str(문자열) =>Text Sequence Type\n",
    "#print(sample_text[0])\n",
    "#print(sample_text[-1])\n",
    "#print(sample_text[1:3])\n",
    "#슬라이싱할때 앞은 포함, 뒤는 불포함\n",
    "#print(sample_text[:3])    #슬라이싱부분에\n",
    "                          #앞의 숫자가 생략되면 처음부터\n",
    "                          #뒤의 숫자가 생략되면 끝까지\n",
    "#print(sample_text[3:])\n",
    "#print(sample_text[:])   #문자열 처음부터 끝까지\n",
    "\n",
    "#문자열 formatting\n",
    "#apple=30\n",
    "#my_text = \"나는 사과를 %d개 가지고 있어요\" %apple\n",
    "#print(my_text)\n",
    "\n",
    "apple =5\n",
    "banana = \"여섯\"\n",
    "my_text = \"나는 사과 %d개, 바나나 %s개 가지고 있어요\" %(apple,banana)\n",
    "print(my_text)\n",
    "\n",
    "#문자열 내장 함수\n",
    "sample_text =\"cocacola\"\n",
    "print(len(sample_text))        #문자열의 길이 : len()\n",
    "print(sample_text.count(\"c\"))  #특정 문자열이 몇번\n",
    "                               #나오는지 count\n",
    "    \n",
    "print(sample_text.find(\"x\")) #특정 문자열이 처음나오는 index를 리턴\n",
    "                             #만약 찾는 문자열이 없으면\n",
    "                             #-1을 리턴\n",
    "\n",
    "#a =\":\"\n",
    "#b =\"abcd\"\n",
    "#print(a.join(b))            #=>a:b:c:d\n",
    "\n",
    "a = \"     hoBBy  \"\n",
    "print(a.upper())            #모두 대문자로 변환\n",
    "print(a.lower())            #모두 소문자로 변환\n",
    "print(a.strip())            #문자열 앞뒤 공백 제거\n",
    "\n",
    "\n",
    "#셀? 만드는거: 쉬프트+엔터"
   ]
  },
  {
   "cell_type": "code",
   "execution_count": 8,
   "metadata": {},
   "outputs": [
    {
     "name": "stdout",
     "output_type": "stream",
     "text": [
      "1\n",
      "5\n",
      "[2, [3, 4, 5]]\n",
      "[1, 2, 3, 4, 5, 6]\n",
      "[1, 2, 3, 1, 2, 3, 1, 2, 3]\n",
      "[5, 2, 3]\n",
      "[[9, 9, 9], 2, 3]\n",
      "[9, 9, 9, 2, 3]\n",
      "[1, 2, 6, 7]\n",
      "[1, 2, 3, [5, 6, 7]]\n",
      "[1, 2, 3, [5, 6, 7], 5, 6, 7]\n",
      "2\n"
     ]
    }
   ],
   "source": [
    "#Python Sequence Type : list\n",
    "#Java 의 ArrayList와 상당히 유사.\n",
    "\n",
    "#list의 생성\n",
    "a = list() #공백 리스트를 생성\n",
    "a=[] #공백 리스트를 생성\n",
    "a=[1,2,3] #일반적인 리스트 생성.\n",
    "a=[1,2,3,\"안녕하세요\",3.141592,False] #여러 타입을 사용\n",
    "a=[1,2,[3,4,5],5,6]\n",
    "\n",
    "#indexing과 slicing 사용 가능(문자열 사용과 유사)\n",
    "\n",
    "print(a[0])\n",
    "print(a[-2])\n",
    "print(a[1:3])\n",
    "\n",
    "\n",
    "#list의 연산\n",
    "\n",
    "a=[1,2,3]\n",
    "b=[4,5,6]\n",
    "print(a+b)\n",
    "print(a*3)\n",
    "\n",
    "\n",
    "a=[1,2,3]\n",
    "a[0]=5\n",
    "print(a)\n",
    "\n",
    "\n",
    "a[0]=[9,9,9]\n",
    "print(a)\n",
    "a[0:1] =[9,9,9]\n",
    "print(a)\n",
    "\n",
    "\n",
    "a=[1,2,3,4,5,6,7]\n",
    "#위의 list를 [1,2,6,7]로 변형하려면?\n",
    "a[2:5]=[]\n",
    "print(a)\n",
    "\n",
    "#리스트의 사용함수\n",
    "my_list= [1,2,3]\n",
    "#print(my_list)\n",
    "my_list.append([5,6,7])\n",
    "print(my_list)\n",
    "\n",
    "my_list.extend([5,6,7])\n",
    "print(my_list)\n",
    "\n",
    "# my_list=[7,3,1,8,2]\n",
    "# result= my_list.sort()   # 오름차순으로 정렬, 결과를 리턴하지 않고 원본을 제어\n",
    "# print(result)            # 소트라는 함수는 자기 자신을 정렬함. 리턴값이 없기 떄문에 result 에 반환해서 머 하면안됨\n",
    "                    \n",
    "\n",
    "#my_list=[7,3,1,8,2]\n",
    "#my_list.sort()\n",
    "#print(my_list)\n",
    "\n",
    "#my_list.reverse()       #리스트의 순서를 역으로 바꾸어요!\n",
    "#print(my_list)\n",
    "\n",
    "#my_list=[7,3,1,8,2]\n",
    "#print(my_list.index(1))   #index()는 찾는 값의 위치를 리턴\n",
    "####################################################################################\n"
   ]
  },
  {
   "cell_type": "code",
   "execution_count": 9,
   "metadata": {
    "scrolled": true
   },
   "outputs": [
    {
     "name": "stdout",
     "output_type": "stream",
     "text": [
      "10\n",
      "2\n",
      "(3, 4)\n",
      "(1, 2, 3, 5, 6, 7)\n",
      "[1, 2, 3]\n",
      "(1, 2, 3)\n",
      "[10, 20, 30, 40]\n"
     ]
    }
   ],
   "source": [
    "# Python Sequence Type : Tuple\n",
    "# list와 상당히 유사.\n",
    "# 표현 방법이 달라요!, 수정,삭제가 불가능\n",
    "#리스트 : [] , 튜플 : ()\n",
    "\n",
    "a=()\n",
    "a=(1,2,3) #[1,2,3]\n",
    "a=(1)     #[1]\n",
    "          #요소가 1개 있을 때 tuple을 표현하려면\n",
    "          # a=(1,)\n",
    "\n",
    "a=(1,2,3,4) #tuple\n",
    "            #tuple 은 ()를 생략할 수 있어요!\n",
    "\n",
    "\n",
    "a= 1,2,3,4\n",
    "a,b,c = 10,20,30\n",
    "\n",
    "\n",
    "print(a)\n",
    "\n",
    "\n",
    "#indexing 과 slicing둘 다 사용을 할 수 있어요\n",
    "a=(1,2,3,4)\n",
    "print(a[1])   #2출력\n",
    "print(a[2:4])\n",
    "\n",
    "#list와 마찬가지로 +,* 연산이 가능\n",
    "\n",
    "a=(1,2,3)\n",
    "b=(5,6,7)\n",
    "print(a + b)\n",
    "\n",
    "\n",
    "\n",
    "\n",
    "\n",
    "#list와 tuple간의 변화\n",
    "my_list=[1,2,3]\n",
    "print(my_list)\n",
    "my_tuple=tuple(my_list)\n",
    "print(my_tuple)\n",
    "\n",
    "\n",
    "my_tuple = 10, 20, 30, 40\n",
    "my_list =list(my_tuple)\n",
    "print(my_list)"
   ]
  },
  {
   "cell_type": "code",
   "execution_count": 17,
   "metadata": {},
   "outputs": [
    {
     "name": "stdout",
     "output_type": "stream",
     "text": [
      "range(0, 10)\n",
      "range(10, 20, 3)\n",
      "True\n",
      "19\n",
      "range(10, 16, 3)\n",
      "range(10, 19, 3)\n",
      "10\n",
      "12\n",
      "14\n",
      "16\n",
      "18\n"
     ]
    }
   ],
   "source": [
    " #Python Sequence Type : range\n",
    " #range는 숫자 sequence로 주로 for문에서 사용\n",
    "\n",
    "\n",
    "\n",
    "\n",
    "#range 의 인자가 1개이면 0부터 시작, 1씩 증가\n",
    "my_range = range(10)\n",
    "print(my_range)\n",
    "\n",
    "\n",
    "#range의 인자가 3개이면 시작, 끝, 증감을 의미\n",
    "my_range = range(10,20,3)\n",
    "print(my_range)\n",
    "\n",
    "print(13 in my_range)\n",
    "print(my_range[-1])\n",
    "\n",
    "\n",
    "print(my_range[:2])\n",
    "print(my_range[:3])\n",
    "\n",
    "#for문\n",
    "# for(i=0;i<10;i++)\n",
    "# print(\"hi\")      #java style. 이렇게 쓰지 않음\n",
    "\n",
    "\n",
    "#range를 이용한  #for문\n",
    "for tmp in range(10,20,2):\n",
    "    print(tmp)\n",
    "    "
   ]
  },
  {
   "cell_type": "code",
   "execution_count": 24,
   "metadata": {},
   "outputs": [
    {
     "name": "stdout",
     "output_type": "stream",
     "text": [
      "dict_keys(['name', 'age', 'address'])\n",
      "dict_values(['홍길동', 30, '서울'])\n",
      "dict_items([('name', '홍길동'), ('age', 30), ('address', '서울')])\n",
      "name\n",
      "age\n",
      "address\n",
      "홍길동\n",
      "30\n",
      "서울\n",
      "name,홍길동\n",
      "age,30\n",
      "address,서울\n",
      "('name', '홍길동')\n",
      "('age', 30)\n",
      "('address', '서울')\n"
     ]
    }
   ],
   "source": [
    "# Python mapping Type : dict\n",
    "\n",
    "# 표현법은 JSON표현과 유사\n",
    "#{ 'name' :\"홍길동\", \"age\" : 30 }\n",
    "\n",
    "#my_dict = {\"name\" : \"홍길동\", \"age\" : 30}\n",
    "#print(type(my_dict))       #class 'dict'(사전자료형)\n",
    "\n",
    "\n",
    "#새로운 key:value를 추가할 경우\n",
    "#my_dict[100] = \"홍길동\"\n",
    "#print(my_dict)\n",
    "\n",
    "\n",
    "#특정 key를 삭제할 경우\n",
    "#del my_dict[\"age\"] \n",
    "#print(my_dict)\n",
    "\n",
    "\n",
    "\n",
    "#key값이 중복되는 경우,\n",
    "#my_dict = {\"name\" : \"홍길동\", \"age\" : 30, \"age\" : 40}   # 키/value 키/value 키/value :   age 중복중 ->실제로 뭘쓰냐? 나도몰라\n",
    "\n",
    "\n",
    "#keys()\n",
    "\n",
    "my_dict = {\"name\":\"홍길동\",\"age\":30 , \"address\":\"서울\"}\n",
    "\n",
    "print(my_dict.keys())\n",
    "print(my_dict.values())\n",
    "print(my_dict.items())\n",
    "#리턴값은 key값들의 리스트처럼 생긴 객체\n",
    "#list와 유사하지만 list의 함수는 사용할 수 없어요!\n",
    "#values():dict의 value값들만 뽑아내요!\n",
    "#items() : (key,value)의 형태로 구성된 리스트처럼 생긴 객체를 리턴.\n",
    "\n",
    "\n",
    "#my_dict = {\"name\" :\"홍길동\",\"age\":30,\"address\":\"서울\"}\n",
    "#for문을 이용하여 모든 key와 그에대한 value값을 출력\n",
    "#for ~~~ in ~~~ : 구문을 이용\n",
    "\n",
    "\n",
    "for key in my_dict.keys():\n",
    "    print(key)\n",
    "\n",
    "for value in my_dict.values():\n",
    "    print(value)\n",
    "    \n",
    "for key in my_dict.keys():\n",
    "    print(\"{0},{1}\".format(key,my_dict[key]))\n",
    "\n",
    "\n",
    "\n",
    "for items in my_dict.items():\n",
    "    print(items)\n",
    "\n",
    "\n"
   ]
  },
  {
   "cell_type": "code",
   "execution_count": 32,
   "metadata": {},
   "outputs": [
    {
     "name": "stdout",
     "output_type": "stream",
     "text": [
      "{1, 2, 3}\n",
      "{'e', 'o', 'H', 'l'}\n",
      "{4, 5}\n",
      "{1, 2, 3, 4, 5, 6, 7, 8}\n",
      "{1, 2, 3}\n",
      "{1, 2, 3, 4, 5, 10}\n",
      "{1, 2, 3, 4, 5, 7, 8, 9, 10}\n",
      "{2, 3, 4, 5, 7, 8, 9, 10}\n"
     ]
    }
   ],
   "source": [
    "#PYthon set Type : set\n",
    "#set의 가장 큰 특징 : 중복이 없는 저장장소,\n",
    "#                     순서가 없는 저장구조,\n",
    "my_set = set([1,2,3]) #set생성 =>{1,2,3}\n",
    "print(my_set)\n",
    "my_set = set(\"Hello\") #{\"H\",\"e\",\"l\",\"o\"}\n",
    "print(my_set)\n",
    "\n",
    "\n",
    "#기본적인 set연산(교집합, 합집합 ,차집합)\n",
    "s1 ={1,2,3,4,5}\n",
    "s2 ={4,5,6,7,8}\n",
    "\n",
    "print(s1 & s2)  #교집합(intersection)\n",
    "print(s1 | s2)  #합집합(union)\n",
    "print(s1 - s2)  #차집합(differences)\n",
    "\n",
    "\n",
    "#기타 사용가능한 method\n",
    "my_set = {1,2,3,4,5}\n",
    "\n",
    "#set에 새로운 요소를 추가하려면\n",
    "my_set.add(10)\n",
    "print(my_set)\n",
    "\n",
    "#set에 여러개를 추가하려면\n",
    "my_set.update([7,8,9])\n",
    "print(my_set)\n",
    "\n",
    "#set에서 삭제할 경우\n",
    "my_set.remove(1)\n",
    "print(my_set)\n",
    "\n",
    "\n"
   ]
  },
  {
   "cell_type": "code",
   "execution_count": null,
   "metadata": {},
   "outputs": [],
   "source": [
    "# Python Data type - bool\n",
    "# 논리 상수인 True, False 를 사용\n",
    "# 다음과 같은 경우는 False로 간주\n",
    "# 1. 빈 문자열은 논리연산시 False(\"\")\n",
    "# 2.빈리스트([]), 빈튜플(()), 빈딕셔너리({})\n",
    "# 3. 숫자 0 False간주, 나머지 다른 숫자 True간주\n",
    "# 4. Nune => False 간주"
   ]
  },
  {
   "cell_type": "code",
   "execution_count": 36,
   "metadata": {},
   "outputs": [
    {
     "name": "stdout",
     "output_type": "stream",
     "text": [
      "숫자를 입력하세요1000\n",
      "100010001000\n",
      "3000\n"
     ]
    }
   ],
   "source": [
    "#Python의 console 입출력\n",
    "input_value=input(\"숫자를 입력하세요\")  #input이라는 함수를 통해 콘솔 입력 가능\n",
    "\n",
    "#입력받은 값은 무조건 문자열\n",
    "#eval() : 문자열을 숫자연산처리\n",
    "result = input_value*3\n",
    "print(result)\n",
    "\n",
    "result = eval(input_value)*3\n",
    "print(result)"
   ]
  },
  {
   "cell_type": "code",
   "execution_count": 25,
   "metadata": {},
   "outputs": [
    {
     "name": "stdout",
     "output_type": "stream",
     "text": [
      "부산\n"
     ]
    }
   ],
   "source": [
    "area = [\"seoul\",\"suwon\",\"pusan\"]\n",
    "\n",
    "\n",
    "#if문\n",
    "if \"suwon111\" in area:\n",
    "    #수행할 코드를 작성\n",
    "    pass\n",
    "elif \"pusan\" in area:\n",
    "    print(\"부산\")\n",
    "else:\n",
    "    print(\"마지막 입니다!\")"
   ]
  },
  {
   "cell_type": "code",
   "execution_count": 80,
   "metadata": {},
   "outputs": [
    {
     "name": "stdout",
     "output_type": "stream",
     "text": [
      "오늘의 날짜:2019-07-02\n",
      "2019-07-02\n",
      "연도 : 2019, 월:7, 일:2\n",
      "2019-07-02 12:49:44.985245\n"
     ]
    }
   ],
   "source": [
    "#python data type - 날짜(date, time, datetime)\n",
    "from datetime import date, time, datetime\n",
    "\n",
    "#현재 날짜를 알아 보아요!\n",
    "today = date.today()\n",
    "print(\"오늘의 날짜:\" + str(today))    #date type을 string과 연결하려면 datetype형변환이 필요하다.\n",
    "print(today)\n",
    "\n",
    "\n",
    "print(\"연도 : {0}, 월:{1}, 일:{2}\".format(today.year, today.month, today.day))\n",
    "\n",
    "today = datetime.today()\n",
    "print(today)\n"
   ]
  },
  {
   "cell_type": "code",
   "execution_count": 4,
   "metadata": {
    "scrolled": true
   },
   "outputs": [
    {
     "name": "stdout",
     "output_type": "stream",
     "text": [
      "2019-05-02\n",
      "2019-07-02 11:50:42.657360\n"
     ]
    }
   ],
   "source": [
    "#날짜 연산\n",
    "from datetime import date, time, datetime, timedelta\n",
    "from dateutil.relativedelta import relativedelta\n",
    "\n",
    "today = date.today() #오늘의 날짜를 구해요!\n",
    "#days = timedelta(days=-100)\n",
    "#days = timedelta(months= -2)  #timedelta는 month 와 year는 사용할 수 없어요! -> relativedelta 은 가능해요\n",
    "days = relativedelta(months= -2)\n",
    "print(today +days)\n",
    "\n",
    "today = datetime.today() #오늘 날짜와 현재 시간을 구해요\n",
    "delta = timedelta(hours=-3)\n",
    "print(today + delta)"
   ]
  },
  {
   "cell_type": "code",
   "execution_count": 44,
   "metadata": {},
   "outputs": [
    {
     "name": "stdout",
     "output_type": "stream",
     "text": [
      "tmp:0\n",
      "tmp:1\n",
      "tmp:2\n",
      "tmp:3\n",
      "tmp:4\n",
      "tmp:5\n",
      "tmp:6\n",
      "tmp:7\n",
      "tmp:8\n",
      "tmp:9\n"
     ]
    }
   ],
   "source": [
    "#print문 사용\n",
    "for tmp in range(10):\n",
    "    print (\"tmp:{}\".format(tmp), end=\"\\n\")\n",
    "    \n",
    "#print 함수는 기본적으로 출력한 다음 한 줄을 넘어가요\n",
    "#print함수의 마지막 인자로 출력에 대한 제어를 할 수 있어요"
   ]
  },
  {
   "cell_type": "code",
   "execution_count": 47,
   "metadata": {},
   "outputs": [
    {
     "name": "stdout",
     "output_type": "stream",
     "text": [
      "합계 :15\n",
      "[2, 4, 6, 8, 10]\n",
      "[4, 8]\n"
     ]
    }
   ],
   "source": [
    "# for구문\n",
    "my_list = [1,2,3,4,5]\n",
    "my_sum = 0\n",
    "\n",
    "#for tmp in my_list:\n",
    "#  my_sum += tmp\n",
    "for tmp in range(len(my_list)):\n",
    "    my_sum += my_list[tmp]\n",
    "    \n",
    "    \n",
    "print(\"합계 :{}\".format(my_sum))\n",
    "my_list=[1,2,3,4,5]\n",
    "new_list=[tmp * 2 for tmp in my_list]\n",
    "print(new_list)\n",
    "my_list=[1,2,3,4,5]\n",
    "new_list=[tmp * 2 for tmp in my_list if tmp%2 == 0]\n",
    "print(new_list)\n"
   ]
  },
  {
   "cell_type": "code",
   "execution_count": 77,
   "metadata": {
    "scrolled": true
   },
   "outputs": [
    {
     "name": "stdout",
     "output_type": "stream",
     "text": [
      "True\n",
      "True\n",
      "11\n",
      "idx:0, item:1\n",
      "idx:1, item:2\n",
      "idx:2, item:3\n",
      "idx:3, item:4\n",
      "idx:4, item:5\n",
      "[2, 3, 5, 7, 8, 9]\n",
      "[2, 3, 5, 7, 8, 9]\n",
      "60\n",
      "150\n",
      "30 200\n"
     ]
    }
   ],
   "source": [
    "#python의 기본 자료구조(자료형)\n",
    "#python 제어문(if,for)\n",
    "#함수, 객체지향\n",
    "\n",
    "\n",
    "#python의 함수는 2가지 종류가 있어요!\n",
    "#1. 사용자 정의 함수\n",
    "#2. 내장 함수\n",
    "\n",
    "\n",
    "#내장 함수의 종류 : 파이선이 제공해주는 함수를 지칭(내장함수)\n",
    "#len() : 개수를 알려줘요\n",
    "#abs() : 숫자에 대한 절대값을 알려줘요!\n",
    "#all() : 반복 가능한 자료형에 대해서 모두가 참이면 True\n",
    "\n",
    "my_list=[1,2,True,\"Hello\"]   #빈문자열 제외 모두 True\n",
    "print(all(my_list))\n",
    "\n",
    "#any():반복 가능한 자료형에 대해서 단 한개라도 참이면 True\n",
    "print(any(my_list))\n",
    "\n",
    "#eval():수치연산에 대한 문자열을 입력받아서 수치연산을 수행\n",
    "print(eval(\"3+4*2\"))\n",
    "\n",
    "#int() : 정수로 변환, list() : 리스트로 변환\n",
    "#tuple() : tuple로 변환, str() : 문자열로 변환\n",
    "\n",
    "my_list=[1,2,3,4,5]\n",
    "\n",
    "for idx,item in enumerate(my_list):\n",
    "    print(\"idx:{0}, item:{1}\".format(idx,item))\n",
    "    \n",
    "#정렬에 대한 내장 함수\n",
    "#정렬에 대한 method\n",
    "my_list = [7,3,9,2,8,5]  #정렬이 안된 리스트를 준비\n",
    "my_list.sort()           #instance의 method를 호출\n",
    "                        #instance를 제어하고 return : None\n",
    "#result=my_list.sort() 이 코드는 이상해요. return :None이니까\n",
    "print(my_list)\n",
    "\n",
    "\n",
    "\n",
    "my_list = [7,3,9,2,8,5] #정렬이 안된 리스트를 준비\n",
    "result = sorted(my_list) #위에있는건 원본이 바뀌고 아래껀 원본안바뀜\n",
    "                        #정렬된 결과가 리턴되고 원본 객체는 변형되지 않아요!\n",
    "    \n",
    "print(result)\n",
    "\n",
    "\n",
    "\n",
    "#사용자 정의 함수를 만들어 보아요!!\n",
    "def my_sum(a,b,c):\n",
    "    return a+b+c\n",
    "\n",
    "result = my_sum(10,20,30)\n",
    "print(result)\n",
    "\n",
    "\n",
    "\n",
    "#만약에 인자의 개수를 알지 못하는 경우라면?\n",
    "#입력인자를 tuple형태로 받아요!\n",
    "def my_sum_1(*args):\n",
    "    result=0;\n",
    "    for tmp in args:\n",
    "        result+=tmp\n",
    "    return result\n",
    "    \n",
    "    \n",
    "result =my_sum_1(10,20,30,40,50)\n",
    "print(result)\n",
    "\n",
    "\n",
    "#파이썬은 함수의 리턴값이 2개 이상일 수 있어요!(x)\n",
    "def my_func(a,b):\n",
    "    result1 = a+b\n",
    "    result2 = a*b\n",
    "    return (result1,result2)\n",
    "\n",
    "\n",
    "#호출할 때\n",
    "res1, res2 = my_func(10,20)\n",
    "print(res1,res2)\n",
    "\n",
    "\n"
   ]
  },
  {
   "cell_type": "code",
   "execution_count": 79,
   "metadata": {},
   "outputs": [
    {
     "name": "stdout",
     "output_type": "stream",
     "text": [
      "103\n"
     ]
    }
   ],
   "source": [
    "#사용자 정의 함수의 scope\n",
    "#전역변수(global variable)와 지역변수(local variable)\n",
    "tmp=100\n",
    "\n",
    "def my_func(x):\n",
    "    #tmp #지역변수\n",
    "    global tmp #전역변수로 지칭 - 전역변수?하고 위에 찾아보게댐 오 초기화잇넹!\n",
    "    tmp += x\n",
    "    return tmp\n",
    "print(my_func(3))"
   ]
  },
  {
   "cell_type": "code",
   "execution_count": null,
   "metadata": {},
   "outputs": [],
   "source": [
    "# Java\n",
    "\n",
    "# 절차적 프로그래밍(c언어)\n",
    "\n",
    "# 절차적 언어의 프로그래밍 방식\n",
    "# 프로그램을 기능으로 분할해서 하위 기능부터 구현하고\n",
    "# 전체기능을 통합해서 구현\n",
    "# ex)은행프로그램을 구현해 보아요!\n",
    "#   -은행의 기능을 판별\n",
    "#     -예금업무\n",
    "#       -입금업무\n",
    "#          -자행입금/타행입금/무통장입금\n",
    "#       -출금업무\n",
    "\n",
    "\n",
    "#    -대출업무\n",
    "#    -외환업무\n",
    "#    -보험업무\n",
    "#    -.....\n",
    "\n",
    "\n",
    "# 장점: 프로그램의 설계가 쉽고 프로그램을 빨리 빌딩할 수 있어요!\n",
    "\n",
    "# 단점: 1990중반 =>인터넷 도입 =>정보량이 증가=>유지보수에 대한\n",
    "# \t요구사항이 지속적 발생\n",
    "#       유지보수 비용>개발비용\n",
    "# \t프로그램의 패러다임이 변화\n",
    "# \t절차적 언어를 이용한 프로그램에서 객체지향 프로그램으로 변경\n",
    "\n",
    "# 객체지향 프로그래밍\n",
    "\n",
    "# 장점: 유지보수에 탁월(재사용성)\n",
    "# 단점 : 설계가 어렵고 구현에 시간이 오래걸려요\n",
    "# 객체지향 프로그래밍은 어떻게 프로그래밍을 하는 걸까요?\n",
    "\n",
    "# 현실세계의 구현해야하는 문제를 그대로 프로그램으로 모델링 하려는 방식\n",
    "\n",
    "# 현실세계의 여러 구성요소(개체)를 프로그램적으로 묘사하기위한\n",
    "# class라는 개념을 도입\n",
    "# =>행동(method), 특징(field)"
   ]
  },
  {
   "cell_type": "code",
   "execution_count": 87,
   "metadata": {},
   "outputs": [
    {
     "name": "stdout",
     "output_type": "stream",
     "text": [
      "국적 : 한국, 이름:홍길동\n"
     ]
    }
   ],
   "source": [
    "## Python의 객체지향\n",
    "##  class정의하고 사용해 보아요!\n",
    "\n",
    "#class: \n",
    "#1.현실세계의 개체를 프로그래밍적으로\n",
    "#  모델링하기 위해서 사용하는 \n",
    "#   =>객체모델링의 수단\n",
    "#2.새로운 데이터 타입을 만드는 수단\n",
    "class Student:\n",
    "    #property(field)\n",
    "    s_nation = \"국적\" #class variable\n",
    "    \n",
    "    # Constructior(생성자)\n",
    "    def __init__(self,nation,n):\n",
    "        Student.s_nation = nation # class variable\n",
    "        self.s_name= n             # instance variable\n",
    "    #method\n",
    "    def display(self):\n",
    "        print(\"국적 : {0}, 이름:{1}\".format(self.s_nation, self.s_name))\n",
    "\n",
    "        \n",
    "#instance생성\n",
    "stu1=Student(\"한국\",\"홍길동\")\n",
    "stu1.display()"
   ]
  },
  {
   "cell_type": "code",
   "execution_count": 3,
   "metadata": {
    "scrolled": true
   },
   "outputs": [
    {
     "name": "stdout",
     "output_type": "stream",
     "text": [
      "30\n"
     ]
    }
   ],
   "source": [
    "##Python - module\n",
    "##Module : 함수, 변수, class를 모아놓은 파일\n",
    "##다른 python프로그램에서 불러와 사용할 수 있도록\n",
    "##만들어진 python 파일을 지칭\n",
    "##Module을 만들면 이놈을 불러다가 사용해야 해요.\n",
    "##이때 사용하는 keyword가 import\n",
    "\n",
    "# import my_module\n",
    "# print(my_module.my_sum(10,20))\n",
    "\n",
    "# import my_module as m1\n",
    "# print(m1.my_sum(10,20))\n",
    "# from my_module import my_sum\n",
    "\n",
    "# import my_package.my_module  #줄줄이 너무 길어요~\n",
    "#pirnt(my_package.my_module.my_sum(10,20))\n",
    "\n",
    "from my_package import my_module  #이렇게 표현하는게 맞아요\n",
    "print(my_module.my_sum(10,20))\n",
    "\n"
   ]
  },
  {
   "cell_type": "code",
   "execution_count": null,
   "metadata": {},
   "outputs": [],
   "source": []
  },
  {
   "cell_type": "code",
   "execution_count": null,
   "metadata": {},
   "outputs": [],
   "source": []
  },
  {
   "cell_type": "code",
   "execution_count": null,
   "metadata": {},
   "outputs": [],
   "source": []
  },
  {
   "cell_type": "code",
   "execution_count": null,
   "metadata": {},
   "outputs": [],
   "source": []
  },
  {
   "cell_type": "code",
   "execution_count": null,
   "metadata": {},
   "outputs": [],
   "source": []
  }
 ],
 "metadata": {
  "kernelspec": {
   "display_name": "Python [conda env:cpu_env] *",
   "language": "python",
   "name": "conda-env-cpu_env-py"
  },
  "language_info": {
   "codemirror_mode": {
    "name": "ipython",
    "version": 3
   },
   "file_extension": ".py",
   "mimetype": "text/x-python",
   "name": "python",
   "nbconvert_exporter": "python",
   "pygments_lexer": "ipython3",
   "version": "3.6.8"
  }
 },
 "nbformat": 4,
 "nbformat_minor": 2
}
