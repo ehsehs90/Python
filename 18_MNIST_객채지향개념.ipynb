{
 "cells": [
  {
   "cell_type": "code",
   "execution_count": 2,
   "metadata": {},
   "outputs": [
    {
     "name": "stdout",
     "output_type": "stream",
     "text": [
      "60\n"
     ]
    }
   ],
   "source": [
    "# Class\n",
    "# 1. 객체 모델링의 수단\n",
    "# 2. ADT(abstract data type) - 추상 데이터 타입\n",
    "\n",
    "\n",
    "##class안에 정의 되는 내용은 크게 3가지\n",
    "## 상태값 저장을 위한 변수 (field(JAVA), member variable(C++), property(PYTHON)) \n",
    "## 수행하는 작업을 위한 함수(methond, member function, .ethond)\n",
    "## 정의된 class 정보를 바탕으로 일정 메모리를 확보\n",
    "## => 이런 확보된 메모리 공간 -> 인스턴스, 객체\n",
    "##이런 객체를 생성하기 위해 생성자가 호출되어야 해요!\n",
    "\n",
    "\n",
    "\n",
    "## 학생 3명이 있어요\n",
    "## 각 학생이 가지는 정보는 국어, 영어, 수학 점수\n",
    "## 평균, 총점 결과를 알고 싶어요!\n",
    "\n",
    "class Student:\n",
    "\n",
    "  #Constructor\n",
    "  def __init__(self,s_name,s_kor,s_eng,s_math):\n",
    "     #property 를 생성하려면 self 를 이용\n",
    "    self.student_name = s_name\n",
    "    self.kor = s_kor\n",
    "    self.eng = s_eng\n",
    "    self.math = s_math\n",
    "    \n",
    "\n",
    "  #method\n",
    "  def get_total(self):\n",
    "        self.total = self.kor+self.eng+self.math\n",
    "        return self.total\n",
    "    \n",
    "stu1=Student(\"홍길동\",10,20,30)\n",
    "print(stu1.get_total())\n",
    "\n"
   ]
  },
  {
   "cell_type": "code",
   "execution_count": null,
   "metadata": {},
   "outputs": [],
   "source": []
  },
  {
   "cell_type": "code",
   "execution_count": null,
   "metadata": {},
   "outputs": [],
   "source": []
  },
  {
   "cell_type": "code",
   "execution_count": null,
   "metadata": {},
   "outputs": [],
   "source": []
  },
  {
   "cell_type": "code",
   "execution_count": null,
   "metadata": {},
   "outputs": [],
   "source": []
  },
  {
   "cell_type": "code",
   "execution_count": null,
   "metadata": {},
   "outputs": [],
   "source": []
  },
  {
   "cell_type": "code",
   "execution_count": null,
   "metadata": {},
   "outputs": [],
   "source": []
  },
  {
   "cell_type": "code",
   "execution_count": null,
   "metadata": {},
   "outputs": [],
   "source": []
  }
 ],
 "metadata": {
  "kernelspec": {
   "display_name": "Python [conda env:cpu_env] *",
   "language": "python",
   "name": "conda-env-cpu_env-py"
  },
  "language_info": {
   "codemirror_mode": {
    "name": "ipython",
    "version": 3
   },
   "file_extension": ".py",
   "mimetype": "text/x-python",
   "name": "python",
   "nbconvert_exporter": "python",
   "pygments_lexer": "ipython3",
   "version": "3.6.8"
  }
 },
 "nbformat": 4,
 "nbformat_minor": 2
}
