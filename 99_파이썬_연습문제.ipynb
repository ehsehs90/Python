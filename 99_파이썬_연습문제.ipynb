{
 "cells": [
  {
   "cell_type": "code",
   "execution_count": 94,
   "metadata": {
    "scrolled": true
   },
   "outputs": [
    {
     "name": "stdout",
     "output_type": "stream",
     "text": [
      "숫자를 입력하세요(7/9/11자만 가능)55765152\n",
      "6504\n"
     ]
    }
   ],
   "source": [
    "#input_value=input(\"숫자를 입력하세요\")  #input이라는 함수를 통해 콘솔 입력 가능\n",
    "input_value=input(\"숫자를 입력하세요(7/9/11자만 가능)\")\n",
    "\n",
    "num=len(input_value)\n",
    "\n",
    "a=list(input_value[0:num//2])\n",
    "b=list(input_value[(num//2)+1:])\n",
    "\n",
    "a.reverse()\n",
    "a1=\"\".join(a)\n",
    "\n",
    "b.reverse()\n",
    "b1=\"\".join(b)\n",
    "\n",
    "\n",
    "bb=int(b1)\n",
    "aa=int(a1)\n",
    "\n",
    "if(aa<bb):\n",
    "    print(bb-aa)\n",
    "else:\n",
    "    print(aa-bb)\n",
    "\n",
    "    \n",
    "    "
   ]
  },
  {
   "cell_type": "code",
   "execution_count": 128,
   "metadata": {},
   "outputs": [
    {
     "name": "stdout",
     "output_type": "stream",
     "text": [
      "554\n"
     ]
    }
   ],
   "source": [
    "#1번문제\n",
    "#입력 숫자 문자열\n",
    "\n",
    "input_str=\"7652310\"\n",
    "#중간위치의 index\n",
    "\n",
    "middle=len(input_str)//2;  #\"2\"의 index를 알아냈어요\n",
    "\n",
    "front=input_str[:middle]  #\"765\"\n",
    "rear=input_str[middle+1:]  #\"310\"\n",
    "\n",
    "\n",
    "front =list(front) #['7','6','5']\n",
    "rear = list(rear)  #['3','1','0']\n",
    "\n",
    "\n",
    "front.reverse()    #['5','6','7']\n",
    "rear.reverse()     #['0','1','3']\n",
    "\n",
    "front=\"\".join(front) #567\n",
    "rear=\"\".join(rear) #013\n",
    "\n",
    "front=int(\"\".join(front)) #\"567\" => 567\n",
    "rear=int(\"\".join(rear)) #\"013\" =>13\n",
    "\n",
    "\n",
    "print(abs(front-rear))"
   ]
  },
  {
   "cell_type": "code",
   "execution_count": 84,
   "metadata": {},
   "outputs": [
    {
     "name": "stdout",
     "output_type": "stream",
     "text": [
      "123123123\n",
      "a\n",
      "a\n",
      "a\n",
      "a\n",
      "a\n"
     ]
    }
   ],
   "source": [
    "\n"
   ]
  },
  {
   "cell_type": "code",
   "execution_count": 99,
   "metadata": {
    "scrolled": true
   },
   "outputs": [
    {
     "ename": "IndentationError",
     "evalue": "unexpected indent (<ipython-input-99-ecc6b2054bc2>, line 13)",
     "output_type": "error",
     "traceback": [
      "\u001b[1;36m  File \u001b[1;32m\"<ipython-input-99-ecc6b2054bc2>\"\u001b[1;36m, line \u001b[1;32m13\u001b[0m\n\u001b[1;33m    if int(num)%2==0:\u001b[0m\n\u001b[1;37m    ^\u001b[0m\n\u001b[1;31mIndentationError\u001b[0m\u001b[1;31m:\u001b[0m unexpected indent\n"
     ]
    }
   ],
   "source": []
  },
  {
   "cell_type": "code",
   "execution_count": 133,
   "metadata": {
    "scrolled": true
   },
   "outputs": [
    {
     "name": "stdout",
     "output_type": "stream",
     "text": [
      "18\n",
      "42\n",
      "11\n",
      "f\n",
      "53\n",
      "f\n",
      "46\n",
      "54\n",
      "32\n",
      "33\n",
      "f\n",
      "56\n",
      "43\n",
      "f\n",
      "23\n",
      "f\n",
      "43\n",
      "f\n",
      "45\n",
      "f\n",
      "34\n",
      "44\n",
      "54\n",
      "34\n",
      "23\n",
      "f\n",
      "3\n"
     ]
    }
   ],
   "source": [
    "##exercise 2\n",
    "maxi=0\n",
    "\n",
    "#print(input_str[0])\n",
    "input_list =[\"112481\",\"23456435\",\"32346533\",\"44435434\",\"324345\"]\n",
    "\n",
    "for i in range(0,5,1):\n",
    "    input_str =input_list[i]\n",
    "    a=len(input_str)\n",
    "    count=0\n",
    "    for tmp in range(1,a,2):\n",
    "        \n",
    "        num=input_str[a-tmp]+input_str[a-tmp-1]\n",
    "        print(input_str[a-tmp]+input_str[a-tmp-1])          \n",
    "        if int(num)%2==0:\n",
    "            count+=1\n",
    "            #print(count)\n",
    "        else:\n",
    "            print('f')\n",
    "    if maxi<count:\n",
    "        maxi=count\n",
    "print(maxi)\n"
   ]
  },
  {
   "cell_type": "code",
   "execution_count": 166,
   "metadata": {},
   "outputs": [
    {
     "name": "stdout",
     "output_type": "stream",
     "text": [
      "['232', '234', '423', '3483828532', '342']\n",
      "5\n",
      "2322344233483828532342\n"
     ]
    },
    {
     "ename": "TypeError",
     "evalue": "'str' object is not callable",
     "output_type": "error",
     "traceback": [
      "\u001b[1;31m---------------------------------------------------------------------------\u001b[0m",
      "\u001b[1;31mTypeError\u001b[0m                                 Traceback (most recent call last)",
      "\u001b[1;32m<ipython-input-166-c39604d1c8af>\u001b[0m in \u001b[0;36m<module>\u001b[1;34m\u001b[0m\n\u001b[0;32m     12\u001b[0m \u001b[1;33m\u001b[0m\u001b[0m\n\u001b[0;32m     13\u001b[0m \u001b[1;33m\u001b[0m\u001b[0m\n\u001b[1;32m---> 14\u001b[1;33m \u001b[1;32mfor\u001b[0m \u001b[0mj\u001b[0m \u001b[1;32min\u001b[0m \u001b[0msrr\u001b[0m\u001b[1;33m(\u001b[0m\u001b[1;36m1\u001b[0m\u001b[1;33m,\u001b[0m\u001b[0mlen\u001b[0m\u001b[1;33m(\u001b[0m\u001b[0msrr\u001b[0m\u001b[1;33m)\u001b[0m\u001b[1;33m,\u001b[0m\u001b[1;36m1\u001b[0m\u001b[1;33m)\u001b[0m\u001b[1;33m:\u001b[0m\u001b[1;33m\u001b[0m\u001b[1;33m\u001b[0m\u001b[0m\n\u001b[0m\u001b[0;32m     15\u001b[0m     \u001b[0mcount\u001b[0m\u001b[1;33m[\u001b[0m\u001b[0msrr\u001b[0m\u001b[1;33m(\u001b[0m\u001b[0mj\u001b[0m\u001b[1;33m)\u001b[0m\u001b[1;33m]\u001b[0m\u001b[1;33m+=\u001b[0m\u001b[1;36m1\u001b[0m\u001b[1;33m\u001b[0m\u001b[1;33m\u001b[0m\u001b[0m\n\u001b[0;32m     16\u001b[0m \u001b[0mprint\u001b[0m\u001b[1;33m(\u001b[0m\u001b[0mcount\u001b[0m\u001b[1;33m)\u001b[0m\u001b[1;33m\u001b[0m\u001b[1;33m\u001b[0m\u001b[0m\n",
      "\u001b[1;31mTypeError\u001b[0m: 'str' object is not callable"
     ]
    }
   ],
   "source": [
    "##exercise 3\n",
    "\n",
    "import re\n",
    "s=\"sad232asda234slkjf423dsa3483828532sdm342fm\"\n",
    "input_str = re.findall(\"\\d+\",s)\n",
    "print(input_str)\n",
    "print(len(input_str))\n",
    "count=0\n",
    "\n",
    "srr=\"\"\n",
    "for i in input_str:\n",
    "    srr += i\n",
    "print(srr)\n",
    "\n",
    "\n",
    "for j in srr(1,len(srr),1):\n",
    "    count[srr(j)]+=1\n",
    "print(count)\n",
    "\n",
    "#숫자출력\n",
    "#개수가 가장 많은 숫자"
   ]
  },
  {
   "cell_type": "code",
   "execution_count": 7,
   "metadata": {
    "scrolled": false
   },
   "outputs": [
    {
     "name": "stdout",
     "output_type": "stream",
     "text": [
      "['232', '234', '423', '3483828532', '342']\n",
      "5\n",
      "0\n",
      "2322344233483828532342\n",
      "['2', '3', '2', '2', '3', '4', '4', '2', '3', '3', '4', '8', '3', '8', '2', '8', '5', '3', '2', '3', '4', '2']\n"
     ]
    },
    {
     "ename": "AttributeError",
     "evalue": "'dict' object has no attribute 'key'",
     "output_type": "error",
     "traceback": [
      "\u001b[1;31m---------------------------------------------------------------------------\u001b[0m",
      "\u001b[1;31mAttributeError\u001b[0m                            Traceback (most recent call last)",
      "\u001b[1;32m<ipython-input-7-3409fcf8cba7>\u001b[0m in \u001b[0;36m<module>\u001b[1;34m\u001b[0m\n\u001b[0;32m     18\u001b[0m \u001b[0mmy_dict\u001b[0m\u001b[1;33m=\u001b[0m\u001b[1;33m{\u001b[0m\u001b[1;34m'1'\u001b[0m\u001b[1;33m:\u001b[0m\u001b[1;36m0\u001b[0m\u001b[1;33m,\u001b[0m\u001b[1;34m\"2\"\u001b[0m\u001b[1;33m:\u001b[0m\u001b[1;36m0\u001b[0m\u001b[1;33m,\u001b[0m\u001b[1;34m\"3\"\u001b[0m\u001b[1;33m:\u001b[0m\u001b[1;36m0\u001b[0m\u001b[1;33m,\u001b[0m\u001b[1;34m\"4\"\u001b[0m\u001b[1;33m:\u001b[0m\u001b[1;36m0\u001b[0m\u001b[1;33m,\u001b[0m\u001b[1;34m\"5\"\u001b[0m\u001b[1;33m:\u001b[0m\u001b[1;36m0\u001b[0m\u001b[1;33m,\u001b[0m\u001b[1;34m\"6\"\u001b[0m\u001b[1;33m:\u001b[0m\u001b[1;36m0\u001b[0m\u001b[1;33m,\u001b[0m\u001b[1;34m\"7\"\u001b[0m\u001b[1;33m:\u001b[0m\u001b[1;36m0\u001b[0m\u001b[1;33m,\u001b[0m\u001b[1;34m\"8\"\u001b[0m\u001b[1;33m:\u001b[0m\u001b[1;36m0\u001b[0m\u001b[1;33m,\u001b[0m\u001b[1;34m\"9\"\u001b[0m\u001b[1;33m:\u001b[0m\u001b[1;36m0\u001b[0m\u001b[1;33m,\u001b[0m\u001b[1;34m\"0\"\u001b[0m\u001b[1;33m:\u001b[0m\u001b[1;36m0\u001b[0m\u001b[1;33m,\u001b[0m\u001b[1;33m}\u001b[0m\u001b[1;33m\u001b[0m\u001b[1;33m\u001b[0m\u001b[0m\n\u001b[0;32m     19\u001b[0m \u001b[1;32mfor\u001b[0m \u001b[0mi\u001b[0m \u001b[1;32min\u001b[0m \u001b[0msrr\u001b[0m\u001b[1;33m:\u001b[0m\u001b[1;33m\u001b[0m\u001b[1;33m\u001b[0m\u001b[0m\n\u001b[1;32m---> 20\u001b[1;33m     \u001b[1;32mif\u001b[0m \u001b[0mi\u001b[0m \u001b[1;32min\u001b[0m \u001b[0mmy_dict\u001b[0m\u001b[1;33m.\u001b[0m\u001b[0mkey\u001b[0m\u001b[1;33m(\u001b[0m\u001b[1;33m)\u001b[0m\u001b[1;33m:\u001b[0m\u001b[1;33m\u001b[0m\u001b[1;33m\u001b[0m\u001b[0m\n\u001b[0m\u001b[0;32m     21\u001b[0m         \u001b[0mmy_dict\u001b[0m\u001b[1;33m[\u001b[0m\u001b[0mval\u001b[0m\u001b[1;33m]\u001b[0m\u001b[1;33m+=\u001b[0m\u001b[1;36m1\u001b[0m\u001b[1;33m\u001b[0m\u001b[1;33m\u001b[0m\u001b[0m\n\u001b[0;32m     22\u001b[0m \u001b[1;33m\u001b[0m\u001b[0m\n",
      "\u001b[1;31mAttributeError\u001b[0m: 'dict' object has no attribute 'key'"
     ]
    }
   ],
   "source": [
    "import re\n",
    "s=\"sad232asda234slkjf423dsa3483828532sdm342fm\"\n",
    "input_str = re.findall(\"\\d+\",s)\n",
    "print(input_str)    #[list]\n",
    "print(len(input_str)) #[5]\n",
    "\n",
    "\n",
    "count=0\n",
    "print(count)   #0\n",
    "srr=\"\"\n",
    "for i in input_str:\n",
    "    srr += i\n",
    "print(srr)  #2918129381274271...(list다 모아줌) \n",
    "\n",
    "\n",
    "a=list(srr)\n",
    "print(a)\n",
    "my_dict={'1':0,\"2\":0,\"3\":0,\"4\":0,\"5\":0,\"6\":0,\"7\":0,\"8\":0,\"9\":0,\"0\":0,}\n",
    "for i in srr:\n",
    "    if i in my_dict.key():\n",
    "        my_dict[val]+=1\n",
    "        \n",
    "print(my_dict.values())        \n",
    "\n",
    "#print(my_dict.keys(value))\n",
    "\n",
    "#숫자출력\n",
    "#개수가 가장 많은 숫자"
   ]
  },
  {
   "cell_type": "code",
   "execution_count": 29,
   "metadata": {},
   "outputs": [
    {
     "name": "stdout",
     "output_type": "stream",
     "text": [
      "숫자를 입력하세요1\n",
      "숫자 입력 하세여요100\n",
      "[5, 14, 19, 23, 28, 32, 37, 41, 46, 50, 55, 64, 69, 73, 78, 82, 87, 91, 96]\n",
      "19\n"
     ]
    }
   ],
   "source": [
    "##exercise 4\n",
    "\n",
    "x=input(\"숫자를 입력하세요\")\n",
    "y=input(\"숫자 입력 하세여요\")\n",
    "\n",
    "intx=int(x) #x의 지금 타입은 str.\n",
    "inty=int(y)\n",
    " \n",
    "#print(type(x))\n",
    "\n",
    "a=[] #빈 리스트 생성\n",
    "\n",
    "for tmp in range(intx+1,inty,1):\n",
    "    #print(tmp)\n",
    "    a.append(tmp)    \n",
    "#print(a)\n",
    "\n",
    "\n",
    "new_list=[n for n in a if ((n%10)+(n//10))%5 ==0]\n",
    "print(new_list)\n",
    "#각 자리수를 합쳐 새로운 값을 갖는 리스트를 만들어요\n",
    "#리스트 원소 %5==0 인 친구들을 count해요\n",
    "\n",
    "print(len(new_list))\n"
   ]
  },
  {
   "cell_type": "code",
   "execution_count": 78,
   "metadata": {},
   "outputs": [
    {
     "name": "stdout",
     "output_type": "stream",
     "text": [
      "1\n",
      "<class 'int'>\n",
      "7\n",
      "6557066\n",
      "65\n",
      "57\n",
      "06\n",
      "6\n"
     ]
    }
   ],
   "source": [
    "##exercise 5\n",
    "\n",
    "\n",
    "num=3278533\n",
    "if (num%2)!=0:\n",
    "    num*=2\n",
    "    print(1)\n",
    "else:\n",
    "    pass\n",
    "\n",
    "print(type(num))   #num=6557066\n",
    "b=str(num)\n",
    "a=len(str(num))\n",
    "\n",
    "print(a)  #7\n",
    "print(b)  #넌 str이다..\n",
    "  \n",
    "for tmp in range(1,a+1,2):  #a=7 tmp=1 3 5 7\n",
    "    #print(tmp)\n",
    "    if tmp == len(b):\n",
    "        #print(\"if\")\n",
    "        num2 = b[tmp-1]\n",
    "    else:    \n",
    "        #print(\"else\")\n",
    "        num2=b[tmp-1]+b[tmp]\n",
    "    print(num2)\n",
    "    \n",
    "\n",
    "\n",
    "\n",
    "\n",
    "\n",
    "\n",
    "\n",
    "\n"
   ]
  },
  {
   "cell_type": "code",
   "execution_count": 154,
   "metadata": {},
   "outputs": [
    {
     "name": "stdout",
     "output_type": "stream",
     "text": [
      "['3', '2', '7', '8', '5', '3', '3']\n",
      "[6, 4, 4, 6, 0, 6, 6]\n",
      "1\n",
      "1\n",
      "1\n",
      "1\n",
      "[10, 10, 6, 6]\n",
      "[0, 2]\n",
      "[2]\n"
     ]
    }
   ],
   "source": [
    "##exercise 5\n",
    "\n",
    "num=3278533  #넌int\n",
    "snum=str(num)\n",
    "\n",
    "if (num%2)!=0:\n",
    "    #2를 곱한 결과가 10 이상이라면 일의 자릿수를 선택한다...\n",
    "    list_snum=list(snum)\n",
    "    print(list_snum)\n",
    "    \n",
    "    new_list=[(eval(tmp)*2) % 10 for tmp in list_snum]\n",
    "\n",
    "    print(new_list)\n",
    "else:\n",
    "    pass\n",
    "\n",
    "#앞에서부터 두 자리씩 덧셈 연산을 반복한다.\n",
    "#print(\"\".join(new_list))\n",
    "# for i in new_list[i]:\n",
    "#     print(new_list[i])\n",
    "\n",
    "#[sum(i) for i in new_list]\n",
    "\n",
    "s=[]\n",
    "mac=len(new_list)      #mac=7임\n",
    "\n",
    "for i in range(0,mac+1,2): #0 2 4 6(은안돌음)\n",
    "    if i==6:\n",
    "        \n",
    "        s.append(new_list[i])\n",
    "    else:\n",
    "        s.append(new_list[i]+new_list[i+1])\n",
    "    print(1)  #3번돌쥬\n",
    "    #if(new_list[i])\n",
    "    \n",
    "print(s)\n",
    "\n",
    "d=[]\n",
    "mec=len(s)\n",
    "\n",
    "for i in range(0,mec,2):  #0 2 4\n",
    "    d.append((s[i]+s[i+1])%10)\n",
    "print(d)\n",
    "#int(7)\n",
    "\n",
    "\n",
    "\n",
    "f=[]\n",
    "mxc=len(d)\n",
    "#rint(mxc)\n",
    "\n",
    "    #0 2\n",
    "f.append(d[0]+d[1])\n",
    "print(f)\n"
   ]
  },
  {
   "cell_type": "code",
   "execution_count": null,
   "metadata": {},
   "outputs": [],
   "source": []
  },
  {
   "cell_type": "code",
   "execution_count": null,
   "metadata": {},
   "outputs": [],
   "source": []
  },
  {
   "cell_type": "code",
   "execution_count": null,
   "metadata": {},
   "outputs": [],
   "source": []
  },
  {
   "cell_type": "code",
   "execution_count": null,
   "metadata": {},
   "outputs": [],
   "source": []
  },
  {
   "cell_type": "code",
   "execution_count": null,
   "metadata": {},
   "outputs": [],
   "source": []
  }
 ],
 "metadata": {
  "kernelspec": {
   "display_name": "Python [conda env:cpu_env] *",
   "language": "python",
   "name": "conda-env-cpu_env-py"
  },
  "language_info": {
   "codemirror_mode": {
    "name": "ipython",
    "version": 3
   },
   "file_extension": ".py",
   "mimetype": "text/x-python",
   "name": "python",
   "nbconvert_exporter": "python",
   "pygments_lexer": "ipython3",
   "version": "3.6.8"
  }
 },
 "nbformat": 4,
 "nbformat_minor": 2
}
