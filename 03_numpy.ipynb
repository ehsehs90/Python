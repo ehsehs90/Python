{
 "cells": [
  {
   "cell_type": "code",
   "execution_count": 2,
   "metadata": {},
   "outputs": [],
   "source": [
    "##Numpy\n",
    "##Numeric PYthon\n",
    "#Vector, Matrix 연산에 상당한 편의성을 제공\n",
    "#Numpy는 그 자체로 의미가 있다기 보다는 다른 module의 대한 기본 자료구조로 이용\n",
    "#pandas와 matplotlib의 기본 자료 구조로 이용\n",
    "\n",
    "\n",
    "## Numpy의 자료구조\n",
    "## 다차원 배열을 이용(n-dimension array)=> ndarray\n",
    "## ndarray는 python의 list와 상당히 유사\n",
    "## 주요 차이점은 ndarray는 같은 데이터 타입을 사용\n",
    "## list보다는 메모리 사용이나 속도면에서 상당히 좋아요!\n",
    "import numpy as np"
   ]
  },
  {
   "cell_type": "code",
   "execution_count": 15,
   "metadata": {
    "scrolled": true
   },
   "outputs": [
    {
     "name": "stdout",
     "output_type": "stream",
     "text": [
      "[1, 2, 3, 4]\n",
      "<class 'list'>\n",
      "<class 'int'>\n",
      "[1 2 3 4]\n",
      "<class 'numpy.ndarray'>\n",
      "<class 'numpy.int32'>\n",
      "int32\n",
      "['100' '3.14' 'Hello' 'True']\n",
      "<U32\n"
     ]
    }
   ],
   "source": [
    "import numpy as np\n",
    "\n",
    "#list를 만들어 보아요!\n",
    "my_list = [1,2,3,4]\n",
    "print(my_list)\n",
    "print(type(my_list))\n",
    "print(type(my_list[0]))\n",
    "\n",
    "\n",
    "#numpy array 를 만들어 보아요!\n",
    "my_arr=np.array([1,2,3,4])\n",
    "print(my_arr)\n",
    "print(type(my_arr))  ##ndarray의 list\n",
    "print(type(my_arr[0]))\n",
    "print(my_arr.dtype)\n",
    "\n",
    "\n",
    "#두번째 numpy array를 만들어 보아요!\n",
    "my_arr=np.array([100,3.14,\"Hello\",True])\n",
    "print(my_arr)\n",
    "print(my_arr.dtype)\n"
   ]
  },
  {
   "cell_type": "code",
   "execution_count": null,
   "metadata": {},
   "outputs": [],
   "source": [
    "# 1.numpy를 사용하기 위해 numpy module을 시스템에 설치\n",
    "\n",
    "# activate cpu_env\n",
    "# conda install numpy\n",
    "# y\n",
    "\n",
    "# <차트 그려주는 모듈>\n",
    "# 아나콘다 프롬프트 관리자권한실행해서\n",
    "# activate cpu_env\n",
    "# 하고\n",
    "# 외부 모듈 설치하자~ \n",
    "# install matplotlib\n",
    "# 다했으면  exit하고 나가~\n",
    "\n",
    "\n",
    "# 97 94 37 87 29 100\n",
    "# => 중간값 => 평균 (74)\n",
    "# => 편차 => 각 값에서 평균을 뺀 값.\n",
    "\n",
    "# 23 20 -37 13 -45 26  \n",
    "# (편차들을 다 합치면 0임(양수,음수). ->따라서 편차의 합으로는어떤것도 설명할 수 없다\n",
    "# ->그래서 우린 편차의 제곱을 사용할 것이다..이걸 분산이라 한다..\n",
    "# ->근데 제곱의 합을 사용하면 데이터가 커져버린다..\n",
    "# ->  그래서 루트씌워서...표준편차를 사용한다.\n",
    "# -> 편차가 크면(분산값이커요) 데이터가 동떨어져있다는 거다..\n"
   ]
  },
  {
   "cell_type": "code",
   "execution_count": 26,
   "metadata": {},
   "outputs": [
    {
     "name": "stdout",
     "output_type": "stream",
     "text": [
      "[[1 2 3]\n",
      " [4 5 6]\n",
      " [7 8 9]]\n",
      "[4, 5, 6]\n",
      "5\n",
      "5\n"
     ]
    }
   ],
   "source": [
    "import numpy as np   ##위에서 numpy 모듈을 실행했기 때문에 굳이 안써도 됨. 하지만 썼다.\n",
    "\n",
    "\n",
    "##ndarray생성 시 데이터 타입을 명시해서 생성할 수 있어요!\n",
    "my_list = [[1,2,3],[4,5,6],[7,8,9]]    ##2차원 형태의 리스트\n",
    "arr =np.array(my_list)\n",
    "print(arr)\n",
    "\n",
    "#matrix를 access하는 방법\n",
    "print(my_list[1])\n",
    "print(my_list[1][1])\n",
    "print(arr[1,1])"
   ]
  },
  {
   "cell_type": "code",
   "execution_count": 187,
   "metadata": {},
   "outputs": [
    {
     "name": "stdout",
     "output_type": "stream",
     "text": [
      "1\n",
      "(4,)\n",
      "4\n",
      "[[1 2]\n",
      " [3 4]\n",
      " [5 6]]\n",
      "2\n",
      "(3, 2)\n",
      "6\n",
      "3\n",
      "2\n"
     ]
    }
   ],
   "source": [
    "import numpy as np\n",
    "\n",
    "my_list = [1,2,3,4]\n",
    "arr = np.array(my_list)  # 1차원의 numpy array가 생성\n",
    "print(arr.ndim)          #몇차원이야? 알려줌.\n",
    "print(arr.shape)         #numpy array의 형태를 tuple로 표현\n",
    "print(arr.size)          #numpy array안의 요소 개수\n",
    "\n",
    "my_list = [[1,2],[3,4],[5,6]]\n",
    "arr=np.array(my_list)    #2차원의 numpy array가 생성\n",
    "print(arr)\n",
    "print(arr.ndim)          #numpy array의 차원을 알려줘요 2\n",
    "print(arr.shape)         #numpy array안의 형태를  tuple로 표현 (3,2)\n",
    "print(arr.size)          #numpy array안의 요소 개수 6\n",
    "print(len(arr))          # 3\n",
    "print(len(arr[0]))       #size와 비교해서 알아두세요 2"
   ]
  },
  {
   "cell_type": "code",
   "execution_count": 52,
   "metadata": {},
   "outputs": [
    {
     "name": "stdout",
     "output_type": "stream",
     "text": [
      "[[ 1  2  3]\n",
      " [ 4  5  6]\n",
      " [ 7  8  9]\n",
      " [10 11 12]]\n",
      "(4, 3)\n",
      "2\n",
      "12\n",
      "4\n",
      "3\n",
      "[ 1  2  3  4  5  6  7  8  9 10 11 12]\n",
      "[[[ 1  2  3]\n",
      "  [ 4  5  6]]\n",
      "\n",
      " [[ 7  8  9]\n",
      "  [10 11 12]]]\n"
     ]
    }
   ],
   "source": [
    "import numpy as np\n",
    "\n",
    "my_list=[[1,2,3],[4,5,6],[7,8,9],[10,11,12]]\n",
    "arr = np.array(my_list)\n",
    "print(arr)\n",
    "print(arr.shape)     #(4,3)\n",
    "print(arr.ndim)\n",
    "print(arr.size)\n",
    "print(len(arr))\n",
    "print(len(arr[0]))\n",
    "\n",
    "\n",
    "arr.shape=(12,)\n",
    "print(arr)             #형태의 변환이 굉장히 자유로워요!!!!(java나 파이썬이였으면 for문 돌아야함... 생각만해도 어려워!)\n",
    "\n",
    "\n",
    "arr.shape = (2,2,3)\n",
    "print(arr)"
   ]
  },
  {
   "cell_type": "code",
   "execution_count": 130,
   "metadata": {},
   "outputs": [
    {
     "name": "stdout",
     "output_type": "stream",
     "text": [
      "[[ 1  2  3]\n",
      " [ 4  5  6]\n",
      " [ 7  8  9]\n",
      " [10 11 12]]\n",
      "4\n",
      "\n",
      "1 2 3 \n",
      "4 5 6 \n",
      "7 8 9 \n",
      "10 11 12 \n",
      "\n",
      "1 2 3 \n",
      "4 5 6 \n",
      "7 8 9 \n",
      "10 11 12 "
     ]
    }
   ],
   "source": [
    "import numpy as np\n",
    "\n",
    "my_list=[[1,2,3],[4,5,6],[7,8,9],[10,11,12]]  #2차원 형태 4행3열\n",
    "arr = np.array(my_list)\n",
    "print(arr)\n",
    "\n",
    "\n",
    "#for문을 적절히 이용해서 numpy array안의 데이터를 \n",
    "#행렬형태로 출력하세요\n",
    "# 1   2   3\n",
    "# 4   5   6\n",
    "# 7   8   9\n",
    "#10  11  12\n",
    "print(len(arr))\n",
    "for i in range(len(arr)):\n",
    "    print()\n",
    "    for j in range(len(arr[0])):\n",
    "        print(arr[i,j], end=\" \")\n",
    "        \n",
    "print()\n",
    "\n",
    "\n",
    "#일단 행으로 4번 돌아야함..\n",
    "for i in range(arr.shape[0]):\n",
    "    print()                         #enter\n",
    "    for j in range(arr.shape[1]):   #그다음에 열로 3번 돌아야함....   참고로arr.shape=== (4,3)뜸 따라서 \n",
    "        print(arr[i,j], end=\" \")    #이 for문은4/돌고 3/돌아서 출력해 란 뜻임\n"
   ]
  },
  {
   "cell_type": "code",
   "execution_count": 80,
   "metadata": {},
   "outputs": [
    {
     "name": "stdout",
     "output_type": "stream",
     "text": [
      "[ 1.2  3.4  5.5  6.   7.   8.9 10.   3. ]\n",
      "[ 1  3  5  6  7  8 10  3]\n"
     ]
    }
   ],
   "source": [
    "import numpy as np\n",
    "\n",
    "\n",
    "arr= np.array([1.2,3.4,5.5,6,7,8.9,10,3])\n",
    "print(arr)\n",
    "\n",
    "\n",
    "my_arr = arr.astype(np.int32)   #numpy array dtype 을\n",
    "print(my_arr)                   #변환할 때 사용\n",
    "\n"
   ]
  },
  {
   "cell_type": "code",
   "execution_count": 215,
   "metadata": {
    "scrolled": false
   },
   "outputs": [
    {
     "name": "stdout",
     "output_type": "stream",
     "text": [
      "[1 2 3 4 5]\n",
      "[[0. 0. 0. 0.]\n",
      " [0. 0. 0. 0.]\n",
      " [0. 0. 0. 0.]]\n",
      "[[1. 1. 1. 1.]\n",
      " [1. 1. 1. 1.]\n",
      " [1. 1. 1. 1.]]\n",
      "[[ 13.575      121.74285714]\n",
      " [ 26.2        131.74285714]]\n",
      "[[9. 9.]\n",
      " [9. 9.]]\n"
     ]
    }
   ],
   "source": [
    "#numpy array를 다양한 방식으로 만들어 보아요\n",
    "import numpy as np\n",
    "\n",
    "\n",
    "arr=np.array([1,2,3,4,5])     #일반적인 생성 방법\n",
    "print(arr)\n",
    "\n",
    "    \n",
    "arr=np.zeros((3,4))        #shape을 알려줘야해요!(shape는 튜플로) 0으로 채울려면 제로스\n",
    "print(arr)\n",
    "\n",
    "\n",
    "arr=np.ones((3,4))        #shape을 알려줘야해요!(shape는 튜플로) 1로 채우려면 원스\n",
    "print(arr)\n",
    "\n",
    "\n",
    "arr=np.empty((2,2))        #shape을 알려줘야해요!\n",
    "print(arr)\n",
    "\n",
    "arr=np.full((2,2),9,dtype=np.float64)     #3행4열짜리 초기값은9 타입은 실수형태로 만들어바\n",
    "print(arr)"
   ]
  },
  {
   "cell_type": "code",
   "execution_count": 95,
   "metadata": {},
   "outputs": [
    {
     "name": "stdout",
     "output_type": "stream",
     "text": [
      "[0 2 4 6 8]\n",
      "[0 1 2 3 4 5 6 7 8 9]\n",
      "[1.3 3.3 5.3]\n"
     ]
    }
   ],
   "source": [
    "import numpy as np\n",
    "\n",
    "#arange의 인자로 (0,10,2) 를 사용했는데\n",
    "#0은 포함, 10은 포함하지 않아요. 간격은 2\n",
    "arr=np.arange(0,10,2)\n",
    "print(arr)\n",
    "\n",
    "arr=np.arange(10)\n",
    "print(arr)\n",
    "\n",
    "\n",
    "arr=np.arange(1.3,7,2)\n",
    "print(arr)"
   ]
  },
  {
   "cell_type": "code",
   "execution_count": 208,
   "metadata": {},
   "outputs": [
    {
     "name": "stdout",
     "output_type": "stream",
     "text": [
      "[10. 11. 12. 13. 14. 15. 16. 17. 18. 19. 20.]\n"
     ]
    },
    {
     "data": {
      "image/png": "[encoded data removed]",
      "text/plain": [
       "<Figure size 432x288 with 1 Axes>"
      ]
     },
     "metadata": {
      "needs_background": "light"
     },
     "output_type": "display_data"
    }
   ],
   "source": [
    "import numpy as np\n",
    "import matplotlib.pyplot as plt\n",
    "\n",
    "\n",
    "#start 부터 end까지 범위에서 주어진 num개의 간격으로\n",
    "#데이터를 생성하고 싶을 때\n",
    "\n",
    "arr = np.linspace(10,20,11)         #0부터 10까지 안에 12개가들어갈려면? 소숫점으로 떨어지겠죠? linspace: 특정size안에 몇개가 들어가는지 알려주는 친구\n",
    "print(arr)\n",
    "plt.plot(arr,'-')\n",
    "plt.show()\n",
    "\n",
    "arr = np.linspace(10,20,11)         \n",
    "print(arr)\n",
    "plt.plot(arr,'-')\n",
    "plt.show()"
   ]
  },
  {
   "cell_type": "code",
   "execution_count": 133,
   "metadata": {},
   "outputs": [
    {
     "name": "stdout",
     "output_type": "stream",
     "text": [
      "[107.24006359 103.59002764 110.76121038 101.92140834 108.52925958\n",
      " 100.18357183 104.28303567 109.96277835  95.08850344 107.12678166\n",
      " 111.1334035   78.46325414  95.83888518  89.29103009 102.21138805\n",
      "  88.76942885  89.49242043 110.12079053 115.4371643   95.97885111\n",
      " 108.64749101  97.73130773 108.1116027  102.87794613  94.6153184\n",
      " 119.084621    95.24223999 114.40731118  88.50924319 108.05714552]\n"
     ]
    },
    {
     "data": {
      "image/png": "[encoded data removed]",
      "text/plain": [
       "<Figure size 432x288 with 1 Axes>"
      ]
     },
     "metadata": {
      "needs_background": "light"
     },
     "output_type": "display_data"
    }
   ],
   "source": [
    "import numpy as np\n",
    "import matplotlib.pyplot as plt\n",
    "\n",
    "\n",
    "#Numpy array를 만드는데 난수를 이용해서\n",
    "#numpy array를 만드려면 어떻게 해야 하나요?\n",
    "#1. np.random.normal()\n",
    "#정규분포를 이용한 난수를 발생시키고 이를 이용해서\n",
    "#numpy 배열을 생성\n",
    "#np.random.normal(평균,표준편차,shape)\n",
    "\n",
    "my_mean = 100\n",
    "my_std = 10\n",
    "arr = np.random.normal(my_mean,my_std,(30,))\n",
    "print(arr)\n",
    "plt.hist(arr,bins=15)\n",
    "plt.show()\n"
   ]
  },
  {
   "cell_type": "code",
   "execution_count": 135,
   "metadata": {},
   "outputs": [
    {
     "name": "stdout",
     "output_type": "stream",
     "text": [
      "[4.68063547e-02 9.70731443e-01 3.86035151e-03 1.78579968e-01\n",
      " 6.12866753e-01 8.13695989e-02 8.81896503e-01 7.19620158e-01\n",
      " 9.66389971e-01 5.07635547e-01 3.00403683e-01 5.49500573e-01\n",
      " 9.30818717e-01 5.20761437e-01 2.67207032e-01 8.77398789e-01\n",
      " 3.71918749e-01 1.38335000e-03 2.47685022e-01 3.18233509e-01\n",
      " 8.58777468e-01 4.58503167e-01 4.44587288e-01 3.36102266e-01\n",
      " 8.80678123e-01 9.45026777e-01 9.91890329e-01 3.76741267e-01\n",
      " 9.66147446e-01 7.91879570e-01 6.75689148e-01 2.44889479e-01\n",
      " 2.16457261e-01 1.66047825e-01 9.22756610e-01 2.94076662e-01\n",
      " 4.53094245e-01 4.93957834e-01 7.78171595e-01 8.44234962e-01\n",
      " 1.39072701e-01 4.26904360e-01 8.42854888e-01 8.18033306e-01\n",
      " 1.02413758e-01 1.56383349e-01 3.04198692e-01 7.53590691e-02\n",
      " 4.24663003e-01 1.07617705e-01 5.68217594e-01 2.46556940e-01\n",
      " 5.96433065e-01 1.17525643e-01 9.75883868e-01 9.32561204e-01\n",
      " 3.91796939e-01 2.42178594e-01 2.50398213e-01 4.83393535e-01\n",
      " 3.99928019e-02 6.39705106e-01 4.08302908e-01 3.77406573e-01\n",
      " 8.09364971e-01 7.09035460e-01 9.54333815e-01 3.51936240e-01\n",
      " 8.97542765e-01 7.69967186e-01 3.57424652e-01 6.21665436e-01\n",
      " 2.88569958e-01 8.74399917e-01 1.12427317e-01 2.12434361e-01\n",
      " 1.83033292e-01 4.03026002e-01 7.45232960e-01 5.26907449e-01\n",
      " 4.87676324e-01 5.45964897e-04 4.25401725e-01 6.35537748e-02\n",
      " 2.08253252e-01 9.32393939e-01 2.15398204e-01 8.58337639e-01\n",
      " 8.02893372e-01 1.59146237e-01 6.05711957e-01 1.15661872e-01\n",
      " 7.27888158e-01 6.37462277e-01 8.11938562e-01 4.79384549e-01\n",
      " 9.14863088e-01 4.93489468e-02 2.92888565e-01 7.15052597e-01\n",
      " 4.18109212e-01 1.72951354e-01 1.07210745e-01 8.17339111e-01\n",
      " 4.73142978e-01 8.82283672e-01 7.33289134e-01 4.09726206e-01\n",
      " 3.73511014e-01 5.15638347e-01 8.89059953e-01 7.37278580e-01\n",
      " 5.15296427e-03 6.94157851e-01 9.19507407e-01 7.10455760e-01\n",
      " 1.77005782e-01 4.83518127e-01 1.40316018e-01 3.58995278e-01\n",
      " 9.37117042e-01 9.23305308e-01 2.82836852e-01 3.39631044e-01\n",
      " 6.00212868e-01 9.63197295e-01 1.47801334e-01 2.56916644e-01\n",
      " 8.73556827e-01 4.91892232e-01 8.98961092e-01 1.85517898e-01\n",
      " 5.32668587e-01 3.26269633e-01 3.16542560e-01 4.46876964e-01\n",
      " 4.33077449e-01 3.57346880e-01 9.14970770e-01 7.31744185e-01\n",
      " 7.27546991e-01 2.89913450e-01 5.77709424e-01 7.79179433e-01\n",
      " 7.95590369e-01 3.44530461e-01 7.70872757e-01 7.35893897e-01\n",
      " 1.41506486e-01 8.65945469e-01 4.41321470e-01 4.86410449e-01\n",
      " 4.48369179e-01 5.67846001e-01 6.21169247e-01 4.98179566e-01\n",
      " 8.66788543e-01 6.27734756e-01 4.01427949e-01 4.16691757e-01\n",
      " 8.10838615e-01 3.48191943e-01 2.11454796e-01 5.93831880e-02\n",
      " 8.76026848e-01 9.18546451e-01 1.20120182e-01 3.34473741e-01\n",
      " 1.75372070e-01 1.15898469e-01 8.99866743e-01 5.68772591e-02\n",
      " 9.80485663e-01 9.64508607e-02 8.63470649e-01 5.66506107e-01\n",
      " 3.67917488e-01 3.42342377e-01 7.57364143e-01 3.14573295e-01\n",
      " 6.57318917e-01 5.17326084e-01 4.84965645e-01 9.01162171e-01\n",
      " 5.54645059e-01 8.26861603e-01 7.25573534e-01 3.85572461e-02\n",
      " 7.73110053e-01 2.16870250e-01 9.03149647e-01 4.29241906e-02\n",
      " 3.33072034e-01 9.97329472e-02 4.75589117e-01 8.20022436e-01\n",
      " 2.98187360e-01 1.50934897e-01 3.30267036e-01 8.13880142e-01\n",
      " 1.40383958e-01 2.27362449e-01 6.88519645e-02 7.05710044e-01\n",
      " 3.95233244e-01 3.10839977e-01 7.18626390e-01 3.35977542e-01\n",
      " 7.27771273e-01 8.15199395e-01 2.17662843e-01 9.73818697e-01\n",
      " 1.62357948e-01 2.90840907e-01 1.79795291e-01 3.45505656e-01\n",
      " 4.80060888e-01 5.22175869e-01 8.53606042e-01 8.89447909e-01\n",
      " 2.20103861e-01 6.22894032e-01 1.11496057e-01 4.58969860e-01\n",
      " 3.22333538e-01 3.16500745e-01 4.82584242e-01 7.29827636e-01\n",
      " 6.91826588e-02 8.79173338e-01 7.34813775e-01 1.76499389e-01\n",
      " 9.39160909e-01 5.06312224e-01 9.99808578e-01 1.97259474e-01\n",
      " 5.34908198e-01 2.90248043e-01 3.04173557e-01 5.91065381e-01\n",
      " 9.21719067e-01 8.05263856e-01 7.23941399e-01 5.59173782e-01\n",
      " 9.22298504e-01 4.92361407e-01 8.73832178e-01 8.33981644e-01\n",
      " 2.13835347e-01 7.71225463e-01 1.21711569e-02 3.22829538e-01\n",
      " 2.29567445e-01 5.06862958e-01 7.36853162e-01 9.76763674e-02\n",
      " 5.14922202e-01 9.38412022e-01 2.28646551e-01 6.77141144e-01\n",
      " 5.92880271e-01 1.00636957e-02 4.75826196e-01 7.08770391e-01\n",
      " 4.39754320e-02 8.79521483e-01 5.20081417e-01 3.06610483e-02\n",
      " 2.24413612e-01 9.53675696e-01 5.82319733e-01 1.07472568e-01\n",
      " 2.87544502e-01 4.56703626e-01 2.09500693e-02 4.11615514e-01\n",
      " 4.89458635e-01 2.43677875e-01 5.88639000e-01 7.53240120e-01\n",
      " 2.35834224e-01 6.20499900e-01 6.39622243e-01 9.48540301e-01\n",
      " 7.78276167e-01 8.48345270e-01 4.90419908e-01 1.85348587e-01\n",
      " 9.95815293e-01 1.29355761e-01 4.71457319e-01 6.80930992e-02\n",
      " 9.43850857e-01 9.64924941e-01 7.19389062e-01 3.49992844e-01\n",
      " 2.54382401e-01 2.65303325e-01 1.27294025e-01 5.25808953e-01\n",
      " 1.41817276e-01 3.16730667e-01 6.26706476e-01 7.27543610e-01\n",
      " 2.42727046e-02 4.30115984e-01 6.52124595e-01 8.53245976e-01\n",
      " 4.75324782e-01 9.69205872e-01 2.65632548e-01 1.35087066e-02\n",
      " 4.83752865e-01 2.56113795e-01 8.23717672e-01 2.32772672e-01\n",
      " 3.10629218e-01 7.91227431e-01 7.15143252e-01 5.58051237e-01\n",
      " 7.04948062e-01 4.18636864e-01 5.31004761e-03 1.13551285e-02\n",
      " 5.11221788e-01 8.32909797e-02 5.10754802e-02 9.65516639e-01\n",
      " 8.59002640e-01 1.52027227e-01 6.64218590e-04 9.41667795e-01\n",
      " 2.78325298e-01 1.85897603e-01 6.91508108e-01 1.08903739e-01\n",
      " 2.64649598e-01 9.75094680e-01 6.39462774e-01 5.20677791e-01\n",
      " 3.97918615e-01 7.74500955e-01 1.40957477e-01 9.67337802e-01\n",
      " 8.61123008e-01 6.17656983e-01 4.29061904e-02 7.00855649e-01\n",
      " 9.13284341e-01 5.24577067e-01 3.54224822e-01 1.20277345e-01\n",
      " 7.54901104e-01 8.85021851e-01 1.00251744e-01 7.58984555e-01\n",
      " 1.70604863e-02 9.67054918e-01 6.15058021e-01 5.52439059e-01\n",
      " 2.95949834e-01 9.29291672e-01 2.65905627e-01 8.28146613e-01\n",
      " 9.85108679e-01 7.83396646e-01 5.18989920e-01 6.60742639e-02\n",
      " 4.72413789e-01 4.38255947e-01 2.02796041e-01 4.23587637e-01\n",
      " 3.57757884e-01 1.63684261e-01 4.41374143e-01 2.62799956e-01\n",
      " 5.22062421e-01 3.51600597e-02 9.06231420e-01 8.16364306e-01\n",
      " 5.52581333e-01 8.51808583e-01 9.62395074e-01 1.10522294e-01\n",
      " 6.30831808e-01 9.97994001e-01 9.87889169e-01 6.03322992e-01\n",
      " 1.28020870e-01 5.83192831e-01 2.06463557e-03 1.98911335e-01\n",
      " 9.56123160e-01 3.30440573e-01 6.38390106e-01 2.80859495e-01\n",
      " 9.47821887e-01 7.28558730e-01 3.29651158e-01 7.91761421e-01\n",
      " 1.08165524e-01 3.92318940e-01 2.21218128e-01 6.83726447e-01\n",
      " 1.02446282e-01 3.97025832e-01 2.76649730e-01 5.06342919e-01\n",
      " 3.49897681e-01 7.06410578e-01 2.45770243e-02 6.33986921e-01\n",
      " 2.30571290e-01 2.68709029e-01 8.00255604e-01 9.55568394e-01\n",
      " 3.16550210e-01 8.26805270e-01 1.03990838e-01 6.33981653e-01\n",
      " 7.51032300e-01 1.55977928e-01 4.26002388e-01 8.92707164e-01\n",
      " 1.03578463e-01 1.80963582e-02 5.90585379e-01 4.35531541e-01\n",
      " 7.98689249e-01 9.23455538e-01 2.99153645e-01 3.88404117e-01\n",
      " 4.86272086e-01 5.88151460e-01 9.83853830e-01 6.97330251e-01\n",
      " 3.89548507e-01 2.63767686e-01 9.44625718e-01 1.35548433e-01\n",
      " 7.20265853e-01 9.25395025e-01 6.64665587e-01 4.23054440e-01\n",
      " 1.98990940e-01 3.67475322e-01 7.06871809e-01 6.49534224e-01\n",
      " 9.27976167e-01 8.66860914e-01 8.16150752e-01 9.11450875e-01\n",
      " 2.76337153e-01 3.69523540e-01 3.79893904e-01 5.60450589e-01\n",
      " 6.68218230e-01 2.86716683e-01 1.94624673e-02 3.99222384e-01\n",
      " 3.08527960e-01 9.42184719e-01 8.88265041e-01 8.60310678e-01\n",
      " 6.52999761e-01 3.44289165e-01 5.48849267e-01 8.15225041e-01\n",
      " 9.86103687e-02 8.01074880e-01 4.11797913e-02 8.16421031e-01\n",
      " 8.07563804e-01 5.10073088e-02 6.27160711e-01 5.02453074e-01\n",
      " 1.69819503e-01 1.48378938e-01 7.73259126e-01 5.67692749e-01\n",
      " 9.82999135e-01 9.82247777e-01 9.92666993e-01 1.18615518e-01\n",
      " 9.38256137e-01 2.44569609e-01 4.58212260e-01 7.57406556e-01\n",
      " 2.03620932e-01 5.66311606e-01 1.85816748e-01 1.04736107e-01\n",
      " 1.16558612e-01 3.57639035e-01 4.65483684e-03 4.24853921e-01\n",
      " 6.64197105e-01 4.01688185e-01 8.57946005e-02 6.26888620e-02\n",
      " 2.78116513e-01 1.69312691e-01 9.65094973e-01 1.51230225e-01\n",
      " 8.05462437e-01 5.86107942e-01 5.69286920e-01 5.12080716e-01\n",
      " 9.71763076e-01 3.63844775e-01 7.87915751e-01 5.55294107e-01\n",
      " 3.95633668e-01 9.55465933e-01 5.98315969e-01 1.18916942e-01\n",
      " 4.17539201e-01 7.81581728e-01 6.93747023e-01 9.16340330e-01\n",
      " 2.59377384e-01 7.58193716e-01 4.59875207e-01 5.73609747e-01\n",
      " 9.55046681e-01 9.79286320e-01 8.61590964e-01 3.59097088e-01\n",
      " 8.87700836e-01 6.38609178e-01 4.29996780e-01 3.57426825e-02\n",
      " 7.70128124e-01 5.02105581e-01 7.86188499e-01 7.48022799e-01\n",
      " 7.93567368e-01 3.00651159e-01 8.00798599e-01 5.48846328e-01\n",
      " 4.73326200e-01 6.75125914e-01 2.13586829e-02 1.02316816e-01\n",
      " 2.92177365e-01 9.82990110e-01 1.39745779e-01 3.30596301e-01\n",
      " 5.10530647e-02 3.31268880e-01 3.20326287e-01 9.46807171e-01\n",
      " 8.45154087e-01 3.82764219e-01 2.47690580e-02 8.31031114e-01\n",
      " 6.60536177e-01 1.52364484e-01 9.96071271e-01 1.00233437e-01\n",
      " 8.67114542e-01 2.94266164e-01 4.35353466e-01 7.95456527e-01\n",
      " 6.77508356e-01 9.37864374e-01 6.21140325e-01 9.78101615e-02\n",
      " 8.84360363e-01 7.69155525e-01 7.11870451e-01 5.37335474e-02\n",
      " 3.96222745e-01 1.67435819e-01 8.21903908e-01 7.00528623e-01\n",
      " 8.83077597e-01 9.66575107e-01 7.74747614e-01 9.94233083e-01\n",
      " 6.14769886e-01 3.71296039e-02 1.42515152e-02 3.42103875e-01\n",
      " 8.23471719e-01 8.66134706e-01 9.60812529e-01 6.51214685e-02\n",
      " 4.45711110e-02 9.13283596e-01 3.05046698e-01 5.57987401e-01\n",
      " 9.82444883e-01 4.00448535e-01 6.65871398e-01 4.00879564e-01\n",
      " 7.68194664e-01 5.27714726e-01 2.37523138e-01 2.71306101e-01\n",
      " 2.58059213e-01 5.32320328e-01 7.03189016e-01 9.49279900e-01\n",
      " 6.94087375e-01 7.81192844e-01 1.68926116e-01 3.74062625e-01\n",
      " 4.13780220e-01 6.86380230e-01 2.95891976e-01 3.03291921e-01\n",
      " 3.55889155e-01 8.10302082e-01 5.77590090e-01 7.52772798e-02\n",
      " 7.82460997e-02 3.71286944e-01 7.66591051e-01 6.88683426e-01\n",
      " 7.07982355e-01 7.67210066e-01 2.87152713e-01 5.48256282e-01\n",
      " 5.43352640e-01 7.39632501e-01 9.56870569e-01 2.77989945e-01\n",
      " 7.93281673e-01 6.59970549e-01 5.80237871e-01 7.74879779e-01\n",
      " 9.44032466e-01 3.66914179e-02 1.47400103e-01 7.56287232e-01\n",
      " 8.37913529e-02 5.16123701e-01 2.19860777e-01 2.74295704e-01\n",
      " 7.01840483e-01 3.01927733e-02 8.73319428e-01 4.44478955e-01\n",
      " 5.02393294e-01 5.40047964e-01 6.45544295e-01 3.44856587e-01\n",
      " 1.01107491e-01 3.18378937e-01 1.68142118e-01 5.56133179e-01\n",
      " 3.18028631e-01 9.58067178e-01 9.65734278e-01 6.20125881e-01\n",
      " 6.17497268e-01 9.85378565e-01 8.87283151e-01 7.65069949e-01\n",
      " 3.13590612e-01 3.65539028e-01 2.01266766e-01 4.87148127e-01\n",
      " 9.90368522e-01 9.12150953e-01 1.18349434e-01 2.51902893e-02\n",
      " 8.98637668e-01 5.37170128e-01 2.00189888e-01 6.73653270e-01\n",
      " 6.44223178e-01 1.22085607e-01 2.59600233e-01 6.00779643e-02\n",
      " 2.09860474e-01 1.32305675e-01 1.93236292e-01 6.85467146e-01\n",
      " 4.94997443e-02 1.01854615e-01 1.34173638e-01 3.16541121e-01\n",
      " 2.98750311e-01 2.55063785e-01 7.50536653e-01 9.98022788e-01\n",
      " 5.33977924e-01 9.44202718e-01 3.96610112e-01 1.06682447e-01\n",
      " 4.08773829e-01 2.96127773e-01 4.93406962e-01 6.57043677e-01\n",
      " 4.61050219e-01 9.35160512e-01 8.84764822e-01 7.01977595e-01\n",
      " 4.89684912e-01 1.31687282e-01 3.97013667e-01 7.04401539e-01\n",
      " 2.84885521e-01 1.03988078e-01 9.07898458e-01 7.09050810e-01\n",
      " 6.15276427e-01 7.92498906e-01 8.35646038e-01 4.83458998e-01\n",
      " 8.81188251e-01 9.16419011e-01 2.71551095e-01 6.07545360e-01\n",
      " 5.26584029e-01 5.37945779e-01 9.37663094e-01 3.05188703e-01\n",
      " 9.83433978e-01 9.02131215e-01 4.58722889e-01 8.17453264e-01\n",
      " 7.69046994e-01 6.77894970e-01 3.19833889e-01 1.96450992e-01\n",
      " 6.71527697e-01 8.42973296e-01 1.62527887e-02 6.42803375e-01\n",
      " 4.42873025e-01 8.98087755e-01 3.21472931e-01 4.74184812e-01\n",
      " 5.14767104e-01 1.40439521e-01 7.12892303e-01 8.30476345e-01\n",
      " 5.79092769e-02 2.91388821e-01 3.80446815e-02 9.56544105e-01\n",
      " 6.67168821e-01 9.64200419e-01 5.31494278e-01 8.02068524e-01\n",
      " 3.74413984e-01 3.53819033e-01 3.78267817e-01 6.57862134e-01\n",
      " 3.59453151e-01 9.00367452e-01 9.83274865e-01 3.04265153e-02\n",
      " 1.93623290e-01 1.12249993e-01 4.23640471e-02 2.27740993e-01\n",
      " 4.46793320e-01 8.36990365e-01 2.21824031e-01 4.93945256e-01\n",
      " 9.29618739e-01 6.67214707e-01 7.98079020e-01 5.50993970e-01\n",
      " 9.80466459e-01 5.88662155e-01 4.55107140e-02 1.97982800e-01\n",
      " 4.04773629e-01 6.01277173e-01 7.71930867e-01 4.13086126e-01\n",
      " 7.10058305e-01 7.89869503e-01 3.17260197e-01 9.79270240e-01\n",
      " 6.49656495e-01 8.80998061e-01 5.55937689e-01 7.41603107e-01\n",
      " 7.70544062e-01 9.08248379e-01 1.50349757e-01 5.58283424e-01\n",
      " 4.28378513e-01 9.23159021e-01 1.05094694e-01 9.82573889e-01\n",
      " 8.75451324e-01 7.38262816e-02 4.90966386e-01 7.17559500e-01\n",
      " 7.38151546e-01 9.06494125e-01 7.99865436e-01 3.10930380e-01\n",
      " 4.98434786e-01 7.01785763e-01 1.38436841e-01 1.93990798e-01\n",
      " 4.81042448e-01 2.98245799e-01 8.62559250e-01 5.86277322e-01\n",
      " 3.48665198e-01 8.48833026e-01 8.04878449e-01 9.98354877e-01\n",
      " 8.47307688e-01 4.14456535e-01 1.27498882e-01 8.40640908e-01\n",
      " 5.97579180e-02 3.50271207e-01 9.19737981e-01 9.60766473e-01\n",
      " 6.40564594e-01 6.88648317e-01 4.24544887e-02 5.14480341e-01\n",
      " 5.46868179e-01 3.40100746e-01 6.85968348e-02 2.28907600e-01\n",
      " 3.57983937e-01 4.35141987e-01 5.90926726e-01 7.22391519e-01\n",
      " 3.17631873e-01 3.28953760e-01 1.96916427e-02 4.08748601e-02\n",
      " 2.57821694e-01 7.40244998e-01 6.28313830e-01 7.69789021e-01\n",
      " 7.68919436e-01 8.56567468e-01 7.20319266e-01 9.79010919e-01\n",
      " 8.98825219e-01 5.86717166e-01 5.88157670e-01 3.42670404e-02\n",
      " 9.98526578e-01 1.31575997e-01 7.40347197e-01 8.21015195e-01\n",
      " 3.73054529e-01 1.96852055e-01 9.87598868e-02 7.48606006e-01\n",
      " 4.52653529e-01 7.13717759e-01 9.15407649e-01 1.46583736e-01\n",
      " 9.19171001e-01 4.11626460e-01 3.05267010e-01 9.43062261e-01\n",
      " 9.90651693e-01 1.98892218e-01 6.56838347e-01 1.06495314e-01\n",
      " 6.50914004e-01 8.27313228e-01 6.84498547e-01 4.17333142e-01\n",
      " 3.83066360e-01 3.93122415e-01 5.89711818e-01 8.81567270e-01\n",
      " 9.29066157e-01 5.35296202e-02 1.81622395e-01 1.12224316e-01\n",
      " 1.93334641e-01 3.46607811e-01 5.06531683e-01 6.29461227e-01\n",
      " 7.32142219e-01 8.90111541e-01 9.89088437e-01 6.62856479e-01\n",
      " 8.45364519e-01 7.78038847e-01 3.07532039e-01 8.75692270e-01\n",
      " 4.27631379e-02 3.67343751e-04 2.73732629e-01 4.62097530e-01\n",
      " 6.38362895e-01 1.01770267e-01 6.73010134e-01 8.01815867e-01\n",
      " 1.85312920e-01 4.15125255e-01 5.19984990e-01 4.51807018e-01\n",
      " 7.99829931e-01 9.60522398e-01 7.98953164e-01 7.79928179e-02\n",
      " 8.04935572e-01 6.65963322e-02 2.35970385e-01 1.53096897e-01\n",
      " 1.97519107e-01 5.28315127e-01 6.71689858e-01 4.70321282e-01\n",
      " 9.59695639e-01 2.40292320e-01 7.63140230e-01 8.70182179e-01\n",
      " 5.62066111e-01 4.56222502e-01 5.96184447e-01 4.28809770e-01\n",
      " 5.55193882e-01 4.16933952e-01 4.00469710e-01 6.95346468e-01\n",
      " 9.28512131e-02 1.66542073e-01 8.51198472e-01 7.71077347e-01\n",
      " 2.81453727e-01 3.77268933e-01 9.26026507e-01 8.18077225e-01\n",
      " 6.14346300e-01 2.21490179e-01 4.42519713e-02 4.31257847e-01\n",
      " 6.72627139e-01 8.28480491e-01 8.52689006e-01 3.27759013e-02\n",
      " 2.44157034e-01 3.39094588e-01 1.88732211e-01 8.02975378e-01\n",
      " 7.67465763e-01 5.16833040e-01 9.82926478e-01 1.44058541e-01\n",
      " 8.99651703e-01 1.16463254e-01 1.63181706e-01 6.96219200e-01\n",
      " 1.09569692e-01 5.65845095e-01 4.20233536e-01 7.28473966e-01\n",
      " 9.00675239e-01 7.69871515e-01 8.49689876e-01 3.29454485e-02\n",
      " 3.10195498e-01 5.15433087e-01 4.15953315e-01 2.31254953e-01\n",
      " 3.07874098e-01 9.45430970e-01 2.94180880e-01 3.53904110e-01\n",
      " 3.70977375e-03 8.45077627e-01 1.54840703e-01 2.04144276e-01\n",
      " 2.55264517e-01 8.84622057e-01 2.06451411e-01 7.97526361e-01\n",
      " 8.08049340e-01 9.27020569e-01 1.15561314e-01 2.17278972e-01\n",
      " 7.42898292e-01 1.96000754e-01 2.86329547e-01 1.66741580e-01\n",
      " 1.72696686e-01 4.81553355e-01 1.09683062e-01 3.21697618e-01\n",
      " 4.26593910e-01 2.45481165e-02 3.88333166e-01 9.41224361e-02\n",
      " 4.93578531e-01 8.25738189e-01 8.18422162e-01 8.04485155e-02]\n"
     ]
    },
    {
     "data": {
      "image/png": "[encoded data removed]",
      "text/plain": [
       "<Figure size 432x288 with 1 Axes>"
      ]
     },
     "metadata": {
      "needs_background": "light"
     },
     "output_type": "display_data"
    }
   ],
   "source": [
    "import numpy as np\n",
    "import matplotlib.pyplot as plt\n",
    "#np.random.rand() : 균등분포로 난수를 생성할 때 사용\n",
    "\n",
    "#[0,1) [:이상, ):미만\n",
    "arr= np.random.rand(1000)\n",
    "\n",
    "plt.hist(arr,bins=10)\n",
    "plt.show()\n",
    "\n"
   ]
  },
  {
   "cell_type": "code",
   "execution_count": 114,
   "metadata": {},
   "outputs": [
    {
     "data": {
      "image/png": "[encoded data removed]",
      "text/plain": [
       "<Figure size 432x288 with 1 Axes>"
      ]
     },
     "metadata": {
      "needs_background": "light"
     },
     "output_type": "display_data"
    }
   ],
   "source": [
    "import numpy as np\n",
    "import matplotlib.pyplot as plt\n",
    "#np.random.randn():표준정규분포에서 난수를 추출하여 numpy array만들때 사용\n",
    "#표준 정규 분포 : 평균이 0이고 표준편차가 1인 정규분포\n",
    "#[0,1) [:이상, ):미만\n",
    "\n",
    "arr=np.random.randn(1000)\n",
    "plt.hist(arr,bins=10)\n",
    "plt.show()"
   ]
  },
  {
   "cell_type": "code",
   "execution_count": 134,
   "metadata": {
    "scrolled": true
   },
   "outputs": [
    {
     "name": "stdout",
     "output_type": "stream",
     "text": [
      "[  57   49   10  -75   88   21   18   17   89  -17   61    4   60   21\n",
      "  -30  -69  -87  -29   84   52  -21  -59  -82  -60   82  -89   66   11\n",
      "   -7   29   18  -56   25  -76  -33  -97  -65   89   97  -57  -68  -89\n",
      "    4   38   82   65   25   56   11  -98  -73   51  -47  -49   74   48\n",
      "   81  -71  -33  -65  -61   37  -27  -59   51   31  -54   78    8  -97\n",
      "  -69  -91   38  -73   73   99   67  -39  -15   -3  -56  -66   62  -12\n",
      "  -67   33  -64 -100  -66   97   26   81  -20   90   36   89   29   12\n",
      "  -65   20   -9   68   16  -64   76  -75  -33    3  -65   14  -70  -71\n",
      "  -67   46  -83  -16  -98  -31    1   40  -56   17  -34   11   -9  -15\n",
      "   67  -61   50   58   45   98   99  -82   -8  -57  -17   77  -59   -7\n",
      "   74   49  -11  -27  -72    5   86   28  -37  -84    6   64   -6  -76\n",
      "   16   91   95  -49   36   84   -9   -7   23  -13   60   47  -28   99\n",
      "  -13  -87  -42  -19   20   16   83  -36   64  -75  -68   70  -86  -72\n",
      "  -80  -32  -78   22  -17   35  -39   41  -95 -100   36   81   39  -96\n",
      "   67   -8   73  -74  -26  -48   77  -49    5  -82   17  -66  -49   58\n",
      "   81  -42   71  -45  -82   73  -13   93  -30  -47  -52   -6  -41  -20\n",
      "   54   24   63  -42   77    6  -56  -87   21  -30  -62   67   36  -87\n",
      "   35  -78  -21  -92  -94   99   94  -40   44  -44   14   51  -76  -96\n",
      "    0  -51  -13  -70  -46   53  -80   -3    1   85   51   55  -71   61\n",
      "   15  -47   19   79  -14  -93    5   37   82   28  -17   20   64   48\n",
      "   17  -97   26  -58  -35  -80  -64  -32   12   75   38    4   -9  -57\n",
      "  -37   59   48   98  -91   88   -9   11   63  -17  -24  -82   13  -26\n",
      "   71   31   40  -42   29   13   28  -61  -76   86  -64   -1  -31   34\n",
      "  -97   21   68   88   61  -72  -32  -74    9   79   81   97   61   35\n",
      "   25   -6  -28  -16   35   95    8  -33    2  -16  -29  -17 -100   33\n",
      "   -9    7   58  -93   49   36   71  -54 -100    4   79  -62  -11  -26\n",
      "   23  -13   -4  -17  -74  -68   15   98   -3   72  -41  -43   78   73\n",
      "   32   85   -7   -9   45   63   94   48   73   85   19   64    5   90\n",
      "  -96   58    9  -13   63  -27   83  -74   18  -78   -2  -10  -49  -54\n",
      "  -39   88  -53    4   28   38   41  -29   -6  -94   73   58  -85   69\n",
      "   66  -47   71  -18   35  -35   69  -34   14   -8  -22    0   59   78\n",
      "   74   -7   14   61  -88  -20  -34   25   38   12   55   84   20  -35\n",
      "   92   97  -12  -66  -97   88   65   71  -12  -30   48   34  -72   15\n",
      "   34  -34   -8    2    1   23   97    9  -27    0   82  -23   49   59\n",
      "  -19  -65   36  -75  -79   73   44   53   19   65   27   29   33   98\n",
      "   40  -10  -26   82  -22  -38  -28   99  -55   33  -53   87   70   95\n",
      "   38  -43  -11   31   25  -18   97   86   32  -83   97   91   -6   52\n",
      "   31  -31   68   64  -42   77   83   52   61   46   -3   35   81  -54\n",
      "   27   61  -19   57  -88   18  -54   18  -68  -66   15  -13   24   53\n",
      "   74    7  -48   10  -36  -24   18  -27   46  -96  -93   31  -52  -24\n",
      "  -63   16  -52    9   79  -51  -29  -10   77  -71  -97  -26  -16  -35\n",
      "   19  -80  -58  -72   54  -13   80  -52   94    2  -91  -98   16    8\n",
      "  -11   24   17    0  -10  -32    5  -90  -88    4   65   67   60   22\n",
      "  -67   54   -1  -50  -12  -80   56  -28  -82   53   52  -61   23  -72\n",
      "   52   46   95   72  -55  -46 -100   38   95   34   -1   85   98   47\n",
      "   62  -50    2  -80   71   18   28    9    5   94   40  -85   18  -67\n",
      "   51   40   33  -62  -99  -90  -94   25  -94    2   66  -25   14  -15\n",
      "   26   14   78  -49  -98  -24   57  -91   15   33   16   81   93  -57\n",
      "  -21  -38  -24  -53  -24   49   20  -82  -11  -87   -8    5  -94    0\n",
      "  -52  -60   54   58   33   43   91  -63  -41   13   -5   -4  -68  -38\n",
      "   38   40   -7  -36   57  -10   50   47   33  -64  -17   27  -95   -8\n",
      "   54  -17   40   35   80  -20   57 -100  -26   31  -39  -33   44   12\n",
      "  -16   16  -44  -38   84  -52   45   17   85  -91   90  -21   61   32\n",
      "   44  -29  -38  -77   -9   10  -93  -78   -2   58  -20   55  -53   14\n",
      "  -89  -22  -70  -10  -66  -46  -19   63  -29    9  -41   12   65  -32\n",
      "   81  -87    1  -81    7  -92   -4   97   24    0   29   57   33   68\n",
      "   50  -70  -81  -96   48    6  -26   23   95  -40   -7   69  -60   88\n",
      "   79  -60  -41  -71   -6   65   26  -84   -1   67   57  -35  -77   28\n",
      "  -13  -63   11   91   54  -11   34    1  -59   45   12  -57   10   97\n",
      "   18   47  -78    9   39  -89   61   35   19  -74  -52   99   82   -4\n",
      "    0  -18  -13   49  -98  -92  -90  -95  -62   66    0   93   17  -41\n",
      "   64   33  -95  -62   63  -12   77  -16   14  -91   32   77  -76   -6\n",
      "   30  -17   31  -23  -89   41  -19   54   98   75   -2  -79   48   70\n",
      "   22   85   45    1   83    0   96   11  -89   -3   47   12  -89  -75\n",
      "   -3   -5  -55  -94  -11  -12  -62  -49  -84   51  -97  -10   74   22\n",
      "   57  -98   33   21   99  -85  -22   63   80    3   18  -93   79    2\n",
      "   79   57   83   13   39   95   22  -45  -12  -32   17   15   85   -7\n",
      "    2   39  -18  -97   65   35  -71  -22  -89  -89  -84  -40   23    3\n",
      "   91   87   29   46   81  -72   92  -15  -27   36   39   17   79  -19\n",
      "   83  -85   31    6  -72  -42  -22   11  -35  -24  -89  -75    3  -89\n",
      "  -10   62   29   44  -99  -84  -67  -67   72  -60  -28    6  -17   60\n",
      "   51  -32   59   50  -36  -69]\n"
     ]
    },
    {
     "data": {
      "image/png": "[encoded data removed]",
      "text/plain": [
       "<Figure size 432x288 with 1 Axes>"
      ]
     },
     "metadata": {
      "needs_background": "light"
     },
     "output_type": "display_data"
    }
   ],
   "source": [
    "import numpy as np\n",
    "import matplotlib.pyplot as plt\n",
    "#np.random.randint():균등분포에서 난수를 추출하여 numpy array만들때 사용(정수만)\n",
    "\n",
    "#[0,1) [:이상, ):미만\n",
    "\n",
    "arr=np.random.randint(-100,100,(1000,))\n",
    "\n",
    "plt.hist(arr,bins=10)\n",
    "plt.show()"
   ]
  },
  {
   "cell_type": "code",
   "execution_count": 127,
   "metadata": {},
   "outputs": [
    {
     "name": "stdout",
     "output_type": "stream",
     "text": [
      "[ 8  3  7 15 16]\n"
     ]
    }
   ],
   "source": [
    "import numpy as np\n",
    "\n",
    "np.random.seed(100)\n",
    "arr=np.random.randint(0,20,(5,))\n",
    "print(arr)"
   ]
  },
  {
   "cell_type": "code",
   "execution_count": 159,
   "metadata": {},
   "outputs": [
    {
     "name": "stdout",
     "output_type": "stream",
     "text": [
      "[ 0  1  2  3  4  5  6  7  8  9 10 11]\n",
      "(12,)\n",
      "[[ 0  1  2  3  4  5]\n",
      " [ 6  7  8  9 10 11]]\n",
      "\n",
      "[ 0  1  2  3  4  5  6  7  8  9 10 11]\n",
      "[[ 0  1  2]\n",
      " [ 3  4  5]\n",
      " [ 6  7  8]\n",
      " [ 9 10 11]]\n",
      "[100   1   2   3   4   5   6   7   8   9  10  11]\n",
      "[[100   1   2]\n",
      " [  3   4   5]\n",
      " [  6   7   8]\n",
      " [  9  10  11]]\n"
     ]
    }
   ],
   "source": [
    "import numpy as np\n",
    "\n",
    "arr=np.arange(0,12,1)\n",
    "print(arr)\n",
    "print(arr.shape)\n",
    "\n",
    "#numpy array의 shape을 변경하려면?\n",
    "arr.shape=(2,6)   #원본자체가 변경\n",
    "print(arr)\n",
    "print()\n",
    "#위의 코드처럼 shape을 직접 변경해서 사용할 수 있지만\n",
    "#이렇게 사용하는 경우는 거의 없어요.다른 방법을 이용해요\n",
    "\n",
    "arr = np.arange(0,12,1)\n",
    "arr_1= arr.reshape(4,3) \n",
    "#arr_1= arr.reshape(4,3).copy()    +copy함수 이용하면 새로운 numpy함수 만들어짐.\n",
    "#새로운 numpy array View()가 만들어져요.\n",
    "print(arr)\n",
    "print(arr_1)\n",
    "\n",
    "\n",
    "arr[0]=100  #(원본 바꾸면 둘다 바뀜. 형태를 공유함. vew)\n",
    "print(arr)\n",
    "print(arr_1)"
   ]
  },
  {
   "cell_type": "code",
   "execution_count": 214,
   "metadata": {
    "scrolled": true
   },
   "outputs": [
    {
     "name": "stdout",
     "output_type": "stream",
     "text": [
      "[ 0  1  2  3  4  5  6  7  8  9 10 11]\n",
      "[[[ 0  1]\n",
      "  [ 2  3]]\n",
      "\n",
      " [[ 4  5]\n",
      "  [ 6  7]]\n",
      "\n",
      " [[ 8  9]\n",
      "  [10 11]]]\n",
      "[[ 0  1  2  3  4  5  6  7  8  9 10 11 12 13 14 15 16 17 18 19]\n",
      " [20 21 22 23 24 25 26 27 28 29 30 31 32 33 34 35 36 37 38 39]\n",
      " [40 41 42 43 44 45 46 47 48 49 50 51 52 53 54 55 56 57 58 59]\n",
      " [60 61 62 63 64 65 66 67 68 69 70 71 72 73 74 75 76 77 78 79]\n",
      " [80 81 82 83 84 85 86 87 88 89 90 91 92 93 94 95 96 97 98 99]]\n",
      "[ 0  1  2  3  4  5  6  7  8  9 10 11 12 13 14 15 16 17 18 19 20 21 22 23\n",
      " 24 25 26 27 28 29 30 31 32 33 34 35 36 37 38 39 40 41 42 43 44 45 46 47\n",
      " 48 49 50 51 52 53 54 55 56 57 58 59 60 61 62 63 64 65 66 67 68 69 70 71\n",
      " 72 73 74 75 76 77 78 79 80 81 82 83 84 85 86 87 88 89 90 91 92 93 94 95\n",
      " 96 97 98 99]\n"
     ]
    }
   ],
   "source": [
    "import numpy as np\n",
    "arr=np.arange(0,12,1)\n",
    "print(arr)\n",
    "\n",
    "\n",
    "arr_1 = arr.reshape(3,2,-1)    # -1은 돈케어라는뜻. 일단 2 부터 맞춰!\n",
    "print(arr_1)\n",
    "\n",
    "\n",
    "#5행 20열짜리 numpy array가 생성\n",
    "arr=np.arange(0,100,1).reshape(5,-1).copy()\n",
    "print(arr)\n",
    "\n",
    "#다차원배열을 1차원으로 바꿀려면 어떻게 하나요?\n",
    "#새로운 numpy array가 만들어지는게 아니라 View생성\n",
    "arr_1 = arr.ravel()  #형태바꾸기 크게 3가지 :reshape, ravel, resize\n",
    "print(arr_1)"
   ]
  },
  {
   "cell_type": "code",
   "execution_count": 158,
   "metadata": {},
   "outputs": [
    {
     "name": "stdout",
     "output_type": "stream",
     "text": [
      "[ 0  1  2  3  4  5  6  7  8  9 10 11]\n",
      "[[ 0  1  2  3  4  5]\n",
      " [ 6  7  8  9 10 11]]\n",
      "[100   1   2   3   4   5   6   7   8   9  10  11]\n",
      "[[ 0  1  2  3  4  5]\n",
      " [ 6  7  8  9 10 11]]\n"
     ]
    }
   ],
   "source": [
    "import numpy as np\n",
    "\n",
    "\n",
    "\n",
    "#resize()\n",
    "arr=np.arange(0,12,1)\n",
    "arr1=np.resize(arr,(2,6))\n",
    "print(arr)\n",
    "print(arr1)\n",
    "arr[0]=100\n",
    "print(arr)\n",
    "print(arr1)    # #(원본 바꾸면 원본만 바뀜. 형태를 공유하지않음. copy)"
   ]
  },
  {
   "cell_type": "code",
   "execution_count": 166,
   "metadata": {},
   "outputs": [
    {
     "name": "stdout",
     "output_type": "stream",
     "text": [
      "index : 0, data : 10\n",
      "index : 1, data : 11\n",
      "index : 2, data : 12\n",
      "index : 3, data : 13\n",
      "index : 4, data : 14\n",
      "index : 5, data : 15\n",
      "index : 6, data : 16\n",
      "index : 7, data : 17\n",
      "index : 8, data : 18\n",
      "index : 9, data : 19\n",
      "[10 11 12]\n",
      "[100  11  12]\n"
     ]
    }
   ],
   "source": [
    "import numpy as np\n",
    "\n",
    "arr= np.arange(10,20,1)\n",
    "\n",
    "for(idx,item) in enumerate(arr):\n",
    "    print(\"index : {0}, data : {1}\".format(idx,item))\n",
    "    \n",
    "    \n",
    "result= arr[0:3]  #슬라이싱 가시조~\n",
    "print(result)\n",
    "\n",
    "arr[0]=100\n",
    "print(result)"
   ]
  },
  {
   "cell_type": "code",
   "execution_count": 140,
   "metadata": {},
   "outputs": [
    {
     "name": "stdout",
     "output_type": "stream",
     "text": [
      "[ 0  1  2  3  4  5  6  7  8  9 10 11]\n",
      "[0 1 2]\n",
      "[ 0  2  4  6  8 10]\n",
      "[[ 0  1  2  3]\n",
      " [ 4  5  6  7]\n",
      " [ 8  9 10 11]\n",
      " [12 13 14 15]]\n",
      "6\n",
      "[4 5 6 7]\n",
      "[[3]\n",
      " [7]]\n"
     ]
    }
   ],
   "source": [
    "import numpy as np\n",
    "\n",
    "arr=np.arange(0,12,1)\n",
    "print(arr)\n",
    "\n",
    "arr_1=arr[0:3]\n",
    "print(arr_1)\n",
    "arr_1=arr[0::2] #처음부터 끝까지 가는데 2칸씩 넘어가면서 슬라이싱해\n",
    "print(arr_1)\n",
    "\n",
    "\n",
    "\n",
    "#2차원 형태의 numpy array\n",
    "arr = np.arange(0,16,1).reshape(4,-1).copy()\n",
    "print(arr)\n",
    "print(arr[1,2])   #6\n",
    "print(arr[1,:])\n",
    "\n",
    "\n",
    "print(arr[:2,3:])\n",
    "\n",
    "\n",
    "\n"
   ]
  },
  {
   "cell_type": "code",
   "execution_count": 183,
   "metadata": {},
   "outputs": [
    {
     "name": "stdout",
     "output_type": "stream",
     "text": [
      "[3 5 0 9 3 6 3 4 7 6]\n",
      "[1 1 0 1 1 0 1 0 1 0]\n",
      "[False False  True False False  True False  True False  True]\n",
      "[0 6 4 6]\n"
     ]
    }
   ],
   "source": [
    "import numpy as np\n",
    "\n",
    "#boolean indexing\n",
    "#정수 형태의 랜덤값을 추출해서 1차원의 numpy array를 생성\n",
    "arr= np.random.randint(0,10,(10,))\n",
    "print(arr)\n",
    "\n",
    "#boolean mask를 만들어서 이를 이용해 indexing하는 기법\n",
    "print( arr%2)\n",
    "print(arr%2 == 0)\n",
    "print(arr[arr%2==0])          #불리안 마스크를 이용해 인덱싱을 하여 True값만 추출할 수 있다.. \n",
    "                              #짝수만 나오게 된다.\n",
    "                              #원본과 사이즈가 같은 numpy array 가 나옴. False/True ..->True가 어디에있는지 알려주는 마스크를 넣어준다.\n",
    "                              #즉 True가 어디에있는지 알려주는 indexing배열을 indexing한다."
   ]
  },
  {
   "cell_type": "code",
   "execution_count": 156,
   "metadata": {},
   "outputs": [
    {
     "name": "stdout",
     "output_type": "stream",
     "text": [
      "[[11 22 33]\n",
      " [14 25 36]\n",
      " [17 28 39]]\n"
     ]
    }
   ],
   "source": [
    "import numpy as np\n",
    "\n",
    "\n",
    "#indexing\n",
    "#numpy arrray를 하나 만들어 보아요\n",
    "#python의 range와 같이 특정 구간에 있는 연속적인\n",
    "# #데이터를 이용해서 numpy array를 만드는 경우\n",
    "\n",
    "\n",
    "#arr=np.arange(0,10,1)\n",
    "# print(arr)\n",
    "# print(arr[1]) #indexing\n",
    "\n",
    "# #slicing\n",
    "# #python의 list에 대한 slicing은 특정 구간에 대한\n",
    "# #데이터를 복사해서 새로운 list를 생성\n",
    "# #numpy array의 slicing은 view를 생성\n",
    "# #원본과 데이터를 공유하고 shape이 다른 ndarray를 생성\n",
    "\n",
    "# print(arr[0:3])\n",
    "\n",
    "# #boolean indexing\n",
    "# #boolean mask를 이용해서 indexing하는 방식\n",
    "arr=np.array([[1,2,3],[4,5,6],[7,8,9]])\n",
    "#print(arr)\n",
    "\n",
    "\n",
    "#numpy array에 대해 수학적 연산(+,-,*,/,%,..)을\n",
    "#수행하려면 두개의 numpy array가 같은 shape을 가져야 합니다\n",
    "#만약 shape이 다르면 broadcasting을 통해 shape을 맞춰요!\n",
    "arr_1=np.array([[10,20,30],[40,50,60],[70,80,90]])\n",
    "arr_1=np.array([10,20,30])\n",
    "\n",
    "#arr_1=5\n",
    "print(arr + arr_1)\n",
    "# print(arr% 2 == 0)   #boolean mask를 생성\n",
    "# print(arr[arr%2==0]) #boolean indexing\n",
    "\n",
    "\n",
    "\n",
    "#Fancy indexing\n",
    "#numpy array에 index배열을 이용해서 배열 요소를 참조하는 방법을 지칭\n",
    "#랜덤값을 이용해서 numpy array를 생성\n",
    "# #정수형 난수를 생성\n",
    "\n",
    "# np.random.seed(10)\n",
    "\n",
    "#arr=np.random.randint(0,10,(5,5))\n",
    "#print(arr)\n",
    "\n",
    "# print(arr[1,1]) #일반적인 indexing\n",
    "#print(arr[1,:]) #일반적인 indexing + slicing\n",
    "#print(arr[1,:3])\n",
    "#print(arr[1,[0,2,4]])   #Fancy indexing\n",
    "\n",
    "\n"
   ]
  },
  {
   "cell_type": "code",
   "execution_count": 57,
   "metadata": {},
   "outputs": [
    {
     "name": "stdout",
     "output_type": "stream",
     "text": [
      "[[ 9 12 15]\n",
      " [19 26 33]\n",
      " [29 40 51]]\n"
     ]
    }
   ],
   "source": [
    "import numpy as np\n",
    "\n",
    "\n",
    "arr_1 = np.array([[1,2],[3,4],[5,6]])  #3 X 2\n",
    "arr_2 = np.array([[1,2,3],[4,5,6]])   #2 X 3\n",
    "\n",
    "print(np.matmul(arr_1,arr_2))\n",
    "\n"
   ]
  },
  {
   "cell_type": "code",
   "execution_count": 83,
   "metadata": {},
   "outputs": [
    {
     "name": "stdout",
     "output_type": "stream",
     "text": [
      "[[5 0 3 3]\n",
      " [7 9 3 5]\n",
      " [2 4 7 6]]\n",
      "54\n",
      "4.5\n",
      "9\n",
      "0\n",
      "2.3979157616563596\n",
      "[[2.23606798 0.         1.73205081 1.73205081]\n",
      " [2.64575131 3.         1.73205081 2.23606798]\n",
      " [1.41421356 2.         2.64575131 2.44948974]]\n",
      "15\n",
      "15\n",
      "15\n",
      "[[ 1  2  3]\n",
      " [ 4  5  6]\n",
      " [ 7  8  9]\n",
      " [10 11 12]]\n",
      "78\n",
      "[22 26 30]\n",
      "[ 6 15 24 33]\n"
     ]
    }
   ],
   "source": [
    "#numpy array 가 제공하는 함수\n",
    "import numpy as np\n",
    "\n",
    "\n",
    "np.random.seed(0)\n",
    "arr=np.random.randint(0,10,(3,4))\n",
    "print(arr)\n",
    "\n",
    "\n",
    "print(arr.sum())       #print(np.sum(arr))합계\n",
    "print(arr.mean())      #평균\n",
    "print(arr.max())       #최대값\n",
    "print(arr.min())       #최소값\n",
    "print(arr.std())      #standard diviation = 표준편차(각각의 값-평균=(편차)를^2해서 제곱근\n",
    "print(np.sqrt(arr))  #제곱근\n",
    "\n",
    "##여기까지는 별로 어렵지 않아요^^\n",
    "##이런 함수를 사용할 때 축(axis)이라는 개념을 이용해서 사용해요.\n",
    "##위의 함수를 사용할 때  axis를 명시하지 않으면 \n",
    "##axis=None으로 설정되요 => numpy array전체에 대해 함수를 적용\n",
    "arr_1 =np.array([1,2,3,4,5])\n",
    "\n",
    "##1차원의 numpy array가 생성, axis=0 =>열방향 \n",
    "print(arr_1.sum())  #15\n",
    "print(arr_1.sum(axis=0))     #axis=1 로 쓰면:error!: 축 1이 존재하지 않는데..왜1썼니?\n",
    "print(arr_1.sum(axis=None))\n",
    "\n",
    "\n",
    "#축의 개념을 사용하여 집계함수 사용할 수 있다,\n",
    "arr= np.array([[1,2,3],[4,5,6],[7,8,9],[10,11,12]])\n",
    "print(arr)\n",
    "print(arr.sum(axis=None))\n",
    "print(arr.sum(axis=0))   ##axis=0 행방향\n",
    "print(arr.sum(axis=1))   ##asix=1 열방향\n"
   ]
  },
  {
   "cell_type": "code",
   "execution_count": 157,
   "metadata": {},
   "outputs": [],
   "source": [
    "#집계함수의 처리속도(sum)\n",
    "import numpy as np\n",
    "\n",
    "arr= np.arange(10000000)\n"
   ]
  },
  {
   "cell_type": "code",
   "execution_count": 89,
   "metadata": {},
   "outputs": [
    {
     "name": "stderr",
     "output_type": "stream",
     "text": [
      "C:\\ProgramData\\Anaconda3\\envs\\cpu_env\\lib\\site-packages\\ipykernel_launcher.py:4: RuntimeWarning: overflow encountered in long_scalars\n",
      "  after removing the cwd from sys.path.\n"
     ]
    },
    {
     "name": "stdout",
     "output_type": "stream",
     "text": [
      "-2014260032\n",
      "Wall time: 3.57 s\n"
     ]
    }
   ],
   "source": [
    "%%time\n",
    "result=0;\n",
    "\n",
    "for i in arr:\n",
    "    result+= i\n",
    "print(result)"
   ]
  },
  {
   "cell_type": "code",
   "execution_count": 90,
   "metadata": {},
   "outputs": [
    {
     "name": "stdout",
     "output_type": "stream",
     "text": [
      "-2014260032\n",
      "Wall time: 13 ms\n"
     ]
    }
   ],
   "source": [
    "%%time\n",
    "print(arr.sum())   #이것이 바로 집계함수를 사용해야만 하는 이유 다 다 다 다 "
   ]
  },
  {
   "cell_type": "code",
   "execution_count": 91,
   "metadata": {},
   "outputs": [
    {
     "name": "stdout",
     "output_type": "stream",
     "text": [
      "[1 2 3]\n"
     ]
    }
   ],
   "source": [
    "arr= np.array([1,2,3,1,2,3])\n",
    "print(np.unique(arr))"
   ]
  },
  {
   "cell_type": "code",
   "execution_count": 5,
   "metadata": {
    "scrolled": true
   },
   "outputs": [
    {
     "name": "stdout",
     "output_type": "stream",
     "text": [
      "[[        1         1         4 964982703]\n",
      " [        1         3         4 964981247]\n",
      " [        1         6         4 964982224]\n",
      " [        1        47         5 964983815]\n",
      " [        1        50         5 964982931]]\n"
     ]
    }
   ],
   "source": [
    "#MovieLens 데이터 파일을 이용\n",
    "#Group Lens에서 수집한 영화에 대한 평점 데이터\n",
    "#영화에 대한 선호도를 1점~5점까지로 표현\n",
    "\n",
    "#MovieLens Data 파일 분석\n",
    "import numpy as np\n",
    "\n",
    "#1.데이터 로딩(csv파일로부터 데이터를 읽어들여요!)\n",
    "data = np.loadtxt(\"data/movielens/ratings.csv\",\n",
    "                 delimiter=\",\",dtype=np.int32)\n",
    "\n",
    "\n",
    "#2. 상위 50개의 행만 출력해보아요!(#userid 처리 함^^ )\n",
    "\n",
    "print(data[:5,:]) #indexing, slicing\n",
    "\n"
   ]
  },
  {
   "cell_type": "code",
   "execution_count": 113,
   "metadata": {},
   "outputs": [
    {
     "name": "stdout",
     "output_type": "stream",
     "text": [
      "3.350827085564679\n",
      "(100836, 4)\n"
     ]
    }
   ],
   "source": [
    "#모든 영화에 대한 전체 평균 평점은?\n",
    "# mean_rate=data[:,2]\n",
    "# print(mean_rate.mean())\n",
    "mean_rate = data[:,2].mean()\n",
    "print(mean_rate)\n",
    "print(data.shape)"
   ]
  },
  {
   "cell_type": "code",
   "execution_count": 128,
   "metadata": {},
   "outputs": [
    {
     "name": "stdout",
     "output_type": "stream",
     "text": [
      "(610,)\n"
     ]
    },
    {
     "ename": "AttributeError",
     "evalue": "'numpy.float64' object has no attribute 'append'",
     "output_type": "error",
     "traceback": [
      "\u001b[1;31m---------------------------------------------------------------------------\u001b[0m",
      "\u001b[1;31mAttributeError\u001b[0m                            Traceback (most recent call last)",
      "\u001b[1;32m<ipython-input-128-cc0966eac252>\u001b[0m in \u001b[0;36m<module>\u001b[1;34m\u001b[0m\n\u001b[0;32m     11\u001b[0m     \u001b[0mdata_for_user\u001b[0m\u001b[1;33m=\u001b[0m\u001b[0mdata\u001b[0m\u001b[1;33m[\u001b[0m\u001b[0mdata\u001b[0m\u001b[1;33m[\u001b[0m\u001b[1;33m:\u001b[0m\u001b[1;33m,\u001b[0m\u001b[1;36m0\u001b[0m\u001b[1;33m]\u001b[0m \u001b[1;33m==\u001b[0m\u001b[0muser_id\u001b[0m\u001b[1;33m,\u001b[0m\u001b[1;33m:\u001b[0m\u001b[1;33m]\u001b[0m\u001b[1;33m\u001b[0m\u001b[1;33m\u001b[0m\u001b[0m\n\u001b[0;32m     12\u001b[0m     \u001b[0mmean_rating_for_user\u001b[0m\u001b[1;33m=\u001b[0m\u001b[0mnp\u001b[0m\u001b[1;33m.\u001b[0m\u001b[0mmean\u001b[0m\u001b[1;33m(\u001b[0m\u001b[0mdata_for_user\u001b[0m\u001b[1;33m[\u001b[0m\u001b[1;33m:\u001b[0m\u001b[1;33m,\u001b[0m\u001b[1;36m2\u001b[0m\u001b[1;33m]\u001b[0m\u001b[1;33m)\u001b[0m\u001b[1;33m\u001b[0m\u001b[1;33m\u001b[0m\u001b[0m\n\u001b[1;32m---> 13\u001b[1;33m     \u001b[0mmean_rate\u001b[0m\u001b[1;33m.\u001b[0m\u001b[0mappend\u001b[0m\u001b[1;33m(\u001b[0m\u001b[1;33m[\u001b[0m\u001b[0muser_id\u001b[0m\u001b[1;33m,\u001b[0m \u001b[0mmean_rating_for_user\u001b[0m\u001b[1;33m]\u001b[0m\u001b[1;33m)\u001b[0m\u001b[1;33m\u001b[0m\u001b[1;33m\u001b[0m\u001b[0m\n\u001b[0m\u001b[0;32m     14\u001b[0m \u001b[1;33m\u001b[0m\u001b[0m\n\u001b[0;32m     15\u001b[0m \u001b[0mmean_array\u001b[0m \u001b[1;33m=\u001b[0m \u001b[0mnp\u001b[0m\u001b[1;33m.\u001b[0m\u001b[0marray\u001b[0m\u001b[1;33m(\u001b[0m\u001b[0mmovie_rate\u001b[0m\u001b[1;33m,\u001b[0m \u001b[0mdtype\u001b[0m\u001b[1;33m=\u001b[0m\u001b[0mnp\u001b[0m\u001b[1;33m.\u001b[0m\u001b[0mfloat32\u001b[0m\u001b[1;33m)\u001b[0m\u001b[1;33m\u001b[0m\u001b[1;33m\u001b[0m\u001b[0m\n",
      "\u001b[1;31mAttributeError\u001b[0m: 'numpy.float64' object has no attribute 'append'"
     ]
    }
   ],
   "source": [
    "#각 사용자별 평균 평점을 구해보아요!\n",
    "user_ids =np.unique(data[:,0])  #1열이 ID임\n",
    "#print(user_ids)\n",
    "print(user_ids.shape)\n",
    "\n",
    "\n",
    "movie_rate=[]\n",
    "\n",
    "\n",
    "for user_id in user_ids:\n",
    "    data_for_user=data[data[:,0] ==user_id,:]\n",
    "    mean_rating_for_user=np.mean(data_for_user[:,2])\n",
    "    mean_rate.append([user_id, mean_rating_for_user])\n",
    "    \n",
    "mean_array = np.array(movie_rate, dtype=np.float32)\n",
    "print(mean_array)\n",
    "\n"
   ]
  },
  {
   "cell_type": "code",
   "execution_count": null,
   "metadata": {},
   "outputs": [],
   "source": []
  },
  {
   "cell_type": "code",
   "execution_count": null,
   "metadata": {},
   "outputs": [],
   "source": []
  },
  {
   "cell_type": "code",
   "execution_count": null,
   "metadata": {},
   "outputs": [],
   "source": []
  },
  {
   "cell_type": "code",
   "execution_count": null,
   "metadata": {},
   "outputs": [],
   "source": []
  }
 ],
 "metadata": {
  "kernelspec": {
   "display_name": "Python [conda env:cpu_env] *",
   "language": "python",
   "name": "conda-env-cpu_env-py"
  },
  "language_info": {
   "codemirror_mode": {
    "name": "ipython",
    "version": 3
   },
   "file_extension": ".py",
   "mimetype": "text/x-python",
   "name": "python",
   "nbconvert_exporter": "python",
   "pygments_lexer": "ipython3",
   "version": "3.6.8"
  }
 },
 "nbformat": 4,
 "nbformat_minor": 2
}
