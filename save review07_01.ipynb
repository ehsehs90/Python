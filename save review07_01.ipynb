{
 "cells": [
  {
   "cell_type": "code",
   "execution_count": 28,
   "metadata": {},
   "outputs": [
    {
     "name": "stdout",
     "output_type": "stream",
     "text": [
      "이것은소리없는\n",
      "이것은이것은이것은\n",
      "s\n",
      "y\n",
      "ow\n",
      "show me the money\n",
      "True\n",
      "나는 사과를다섯개 가지고 있어요!\n",
      "나는 사과를다섯개,바나나5개 가지고 있어요!\n",
      "10\n"
     ]
    }
   ],
   "source": [
    "# 1. 주석 \n",
    "#한줄 주석은 #기호를 이용해서 표현\n",
    "# ctrl+/(슬러시) :주석풀림\n",
    "#ㅁㅁㅁ\n",
    "#ㅠㅠㅠ\n",
    "#ㅊㅊㅊ\n",
    "#ㅇㅇㅇ\n",
    "#여러줄 주석은 ''' '''(******)\n",
    "\n",
    "\n",
    "# 2. 기억해야하는 내장 상수\n",
    "#True, False 가 존재해요 (대소문자 구분)\n",
    "#None : 값이 존재하지 않습니다 라는 의미의 상수\n",
    "\n",
    "# 3. Built-in data type(내장형)\n",
    "# 3-1. Numeric type(숫자형)\n",
    "\n",
    "a = 123\n",
    "a =3.1415192\n",
    "a = 3.14E10\n",
    "a = 0xEE# (16 진수)\n",
    "a = 0o55# (8 진수)\n",
    "\n",
    "a = 3/4 #결과가 0.75로 실수로 나와요!\n",
    "#몫을 구할때는 *//* , 나머지를 구할때는 \"%\"\n",
    "\n",
    "# 3-2. Text Seqeunce Type (str)\n",
    "\n",
    "#기본적인 문자열 표현 : \"\", ''\n",
    "#문자열 연결 \n",
    "\n",
    "print(\"이것은\"+'소리없는')\n",
    "print(\"이것은\"*3)\n",
    "\n",
    "#문자열의 indexing, slicing\n",
    "#indexing : 배열을 생각하시면 돼요\n",
    "a=\"show me the money\"\n",
    "print(a[0]) #indexing\n",
    "print(a[-1])  #index의 값이 음수면 뒤에서부터 위치 계산\n",
    "print(a[2:4]) #slicing.\n",
    "print(a[:])\n",
    "\n",
    "#in 연산자\n",
    "a=\"Hello\"\n",
    "print(\"e\" in a)\n",
    "\n",
    "#문자열 포매팅은 상당히 여러 방법이 있어요!\n",
    "sample = \"나는 사과를 %d개 가지고 있어요!\" %10\n",
    "\n",
    "sample = \"나는 사과를{0}개 가지고 있어요!\" .format(\"다섯\")\n",
    "print(sample)\n",
    "\n",
    "sample = \"나는 사과를{0}개,바나나{1}개 가지고 있어요!\" .format(\"다섯\",5) \n",
    "print(sample)\n",
    "\n",
    "\n",
    "#많이 사용되는 문자열 함수에 대해서도 기억해야 해요!\n",
    "sample =\"sampleText\"\n",
    "print(len(sample))"
   ]
  }
 ],
 "metadata": {
  "kernelspec": {
   "display_name": "Python [conda env:cpu_env] *",
   "language": "python",
   "name": "conda-env-cpu_env-py"
  },
  "language_info": {
   "codemirror_mode": {
    "name": "ipython",
    "version": 3
   },
   "file_extension": ".py",
   "mimetype": "text/x-python",
   "name": "python",
   "nbconvert_exporter": "python",
   "pygments_lexer": "ipython3",
   "version": "3.6.8"
  }
 },
 "nbformat": 4,
 "nbformat_minor": 2
}
